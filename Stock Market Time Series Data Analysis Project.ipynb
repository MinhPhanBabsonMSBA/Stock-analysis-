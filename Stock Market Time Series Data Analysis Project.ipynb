{
 "cells": [
  {
   "cell_type": "markdown",
   "id": "f7b9648f",
   "metadata": {},
   "source": [
    "Approaches Passive Portfolio Management and Investor Approaches :Aggressive Strategies \n",
    "References : https://www.investopedia.com/terms/p/portfoliomanagement.asp\n",
    "In the portfolio management we want to identify The Correlation Coefficient of 2 companies or more stock data, from that we can idendify should be diversify the portfolio of what types of companies \n",
    "Consider using the Numpy or others method ( https://forecastegy.com/posts/correlation-between-two-time-series-python/#:~:text=NumPy%20is%20the%20most%20popular,corrcoef%20function.&text=This%20function%20calculates%20the%20Pearson%20correlation%20coefficient.)\n",
    "\n",
    "Consider using Price - Earning ratio because this is the most common way to value a stock is to compute the company's price-to-earnings (P/E) ratio. The P/E ratio equals the company's stock price divided by its most recently reported earnings per share (EPS). A low P/E ratio implies that an investor buying the stock is receiving an attractive amount of value.https://www.investopedia.com/articles/investing/011416/how-evaluate-stock-performance.asp"
   ]
  },
  {
   "cell_type": "markdown",
   "id": "b85d6738",
   "metadata": {},
   "source": [
    "As the yfinance package is a powerful tool to combine the technology edge of data analysis and trading finance.In this project, the main objective is finding the relationship between EPS ( Earning Per Share) and investor mainly focus aspects inside a financial statement ( Tax Provision, Selling And Marketing; General And Administrative Espense)"
   ]
  },
  {
   "cell_type": "code",
   "execution_count": 1,
   "id": "763a52e4",
   "metadata": {
    "scrolled": true
   },
   "outputs": [
    {
     "name": "stderr",
     "output_type": "stream",
     "text": [
      "/Users/minhphan/opt/anaconda3/lib/python3.8/site-packages/scipy/__init__.py:138: UserWarning: A NumPy version >=1.16.5 and <1.23.0 is required for this version of SciPy (detected version 1.23.5)\n",
      "  warnings.warn(f\"A NumPy version >={np_minversion} and <{np_maxversion} is required for this version of \"\n"
     ]
    }
   ],
   "source": [
    "# importing modules \n",
    "import pandas as pd\n",
    "from pandas_datareader.data import DataReader\n",
    "from datetime import datetime\n",
    "import yfinance as yf\n",
    "from pandas_datareader import data as pdr\n",
    "import scipy.stats\n",
    "import statistics\n",
    "from scipy.stats import pearsonr, spearmanr, kendalltau\n",
    "import matplotlib.pyplot as plt\n",
    "from sklearn.linear_model import LinearRegression\n",
    "from sklearn import linear_model"
   ]
  },
  {
   "cell_type": "code",
   "execution_count": 2,
   "id": "10754bc9",
   "metadata": {},
   "outputs": [],
   "source": [
    "# List of financial services that do investment and asset management\n",
    "fin_list = ['STT', 'C', 'BK', 'UBS']"
   ]
  },
  {
   "cell_type": "code",
   "execution_count": 3,
   "id": "9216384d",
   "metadata": {},
   "outputs": [],
   "source": [
    "# Checking the yfinance module functionalities \n",
    "citi = yf.Ticker(\"C\")\n",
    "state = yf.Ticker(\"STT\")\n",
    "bny = yf.Ticker(\"BK\")\n",
    "ubs = yf.Ticker(\"UBS\")"
   ]
  },
  {
   "cell_type": "code",
   "execution_count": 4,
   "id": "4738ff40",
   "metadata": {
    "scrolled": false
   },
   "outputs": [],
   "source": [
    "inc_citi = citi.income_stmt\n",
    "inc_state = state.income_stmt\n",
    "inc_bny = bny.income_stmt\n",
    "inc_ubs = ubs.income_stmt\n",
    "\n",
    "citi_eps = inc_citi.loc[\"Diluted EPS\"]\n",
    "state_eps = inc_state.loc[\"Diluted EPS\"]\n",
    "bny_eps = inc_bny.loc[\"Diluted EPS\"]\n",
    "ubs_eps = inc_ubs.loc[\"Diluted EPS\"]\n",
    "\n",
    "citi_v = list(citi_eps)\n",
    "state_v = list(state_eps)\n",
    "bny_v = list(bny_eps)\n",
    "ubs_v = list(ubs_eps)"
   ]
  },
  {
   "cell_type": "code",
   "execution_count": 5,
   "id": "aa63fd7c",
   "metadata": {
    "scrolled": true
   },
   "outputs": [
    {
     "name": "stdout",
     "output_type": "stream",
     "text": [
      "[4.04, 7.0, 10.14, 4.87, nan]\n"
     ]
    }
   ],
   "source": [
    "# Print the EPS of citi bank\n",
    "print(citi_v)"
   ]
  },
  {
   "cell_type": "markdown",
   "id": "47947aaa",
   "metadata": {},
   "source": [
    "The last element in the EPS list is NaN so we need perform the data cleasing process for further analysis "
   ]
  },
  {
   "cell_type": "code",
   "execution_count": 6,
   "id": "aaf651a9",
   "metadata": {
    "scrolled": true
   },
   "outputs": [],
   "source": [
    "#  function for removing the last element in the EPS list \n",
    "def rem_last(list):\n",
    "    list.pop()"
   ]
  },
  {
   "cell_type": "code",
   "execution_count": 7,
   "id": "1f598fcc",
   "metadata": {},
   "outputs": [],
   "source": [
    "rem_last(citi_v)\n",
    "rem_last(state_v)\n",
    "rem_last(bny_v)\n",
    "rem_last(ubs_v)"
   ]
  },
  {
   "cell_type": "code",
   "execution_count": 8,
   "id": "dd583160",
   "metadata": {},
   "outputs": [],
   "source": [
    "Years= [2023,2022,2021,2020]"
   ]
  },
  {
   "cell_type": "code",
   "execution_count": 9,
   "id": "012c1b10",
   "metadata": {},
   "outputs": [],
   "source": [
    "eps_dict = {\"Years\": Years,\n",
    "    \"Citi Group\" :citi_v,\n",
    "            \"State Street\":state_v,\n",
    "            \"BNY Mellon\": bny_v,\n",
    "            \"UBS\": ubs_v}"
   ]
  },
  {
   "cell_type": "code",
   "execution_count": 10,
   "id": "b0aafa96",
   "metadata": {},
   "outputs": [
    {
     "name": "stdout",
     "output_type": "stream",
     "text": [
      "{'Years': [2023, 2022, 2021, 2020], 'Citi Group': [4.04, 7.0, 10.14, 4.87], 'State Street': [5.58, 7.19, 7.19, 6.32], 'BNY Mellon': [4.0, 2.9, 4.14, 3.83], 'UBS': [8.45, 2.25, 2.06, 1.79]}\n"
     ]
    }
   ],
   "source": [
    "print(eps_dict)"
   ]
  },
  {
   "cell_type": "code",
   "execution_count": 11,
   "id": "b16e6eb0",
   "metadata": {},
   "outputs": [],
   "source": [
    "df = pd.DataFrame(eps_dict)"
   ]
  },
  {
   "cell_type": "code",
   "execution_count": 12,
   "id": "896d70d3",
   "metadata": {},
   "outputs": [
    {
     "name": "stdout",
     "output_type": "stream",
     "text": [
      "   Years  Citi Group  State Street  BNY Mellon   UBS\n",
      "0   2023        4.04          5.58        4.00  8.45\n",
      "1   2022        7.00          7.19        2.90  2.25\n",
      "2   2021       10.14          7.19        4.14  2.06\n",
      "3   2020        4.87          6.32        3.83  1.79\n"
     ]
    }
   ],
   "source": [
    "print(df)"
   ]
  },
  {
   "cell_type": "code",
   "execution_count": 41,
   "id": "8ce74cbd",
   "metadata": {},
   "outputs": [],
   "source": [
    "# Using income statement elements such as : Tax Provision, Selling And Marketing; General And Administrative Espense \n",
    "# to identify the correlation "
   ]
  },
  {
   "cell_type": "markdown",
   "id": "99178a9d",
   "metadata": {},
   "source": [
    "# Tax Provision, Selling And Marketing; General And Administrative Espense factors as Correlation Coefficient with EPS from the Income Statement"
   ]
  },
  {
   "cell_type": "markdown",
   "id": "07acf23f",
   "metadata": {},
   "source": [
    "## Citi Group "
   ]
  },
  {
   "cell_type": "code",
   "execution_count": 13,
   "id": "963ea4f1",
   "metadata": {},
   "outputs": [],
   "source": [
    "# Extracting chosen factors \n",
    "citi_tax = inc_citi.loc[\"Tax Provision\"]\n",
    "citi_selling_marketing = inc_citi.loc[\"Selling And Marketing Expense\"]\n",
    "citi_gen_admin = inc_citi.loc[\"General And Administrative Expense\"]\n",
    "\n",
    "citi_dict ={\"Tax Provision\" : citi_tax,\n",
    "            \"Selling And Marketing Expense\": citi_selling_marketing,\n",
    "            \"General And Administrative Expense\": citi_gen_admin\n",
    "}\n",
    "df_citi = pd.DataFrame(citi_dict)\n"
   ]
  },
  {
   "cell_type": "code",
   "execution_count": 14,
   "id": "3c6ec35e",
   "metadata": {},
   "outputs": [
    {
     "data": {
      "text/html": [
       "<div>\n",
       "<style scoped>\n",
       "    .dataframe tbody tr th:only-of-type {\n",
       "        vertical-align: middle;\n",
       "    }\n",
       "\n",
       "    .dataframe tbody tr th {\n",
       "        vertical-align: top;\n",
       "    }\n",
       "\n",
       "    .dataframe thead th {\n",
       "        text-align: right;\n",
       "    }\n",
       "</style>\n",
       "<table border=\"1\" class=\"dataframe\">\n",
       "  <thead>\n",
       "    <tr style=\"text-align: right;\">\n",
       "      <th></th>\n",
       "      <th>Tax Provision</th>\n",
       "      <th>Selling And Marketing Expense</th>\n",
       "      <th>General And Administrative Expense</th>\n",
       "    </tr>\n",
       "  </thead>\n",
       "  <tbody>\n",
       "    <tr>\n",
       "      <th>2023-12-31</th>\n",
       "      <td>3528000000.0</td>\n",
       "      <td>1393000000.0</td>\n",
       "      <td>29319000000.0</td>\n",
       "    </tr>\n",
       "    <tr>\n",
       "      <th>2022-12-31</th>\n",
       "      <td>3642000000.0</td>\n",
       "      <td>1556000000.0</td>\n",
       "      <td>26749000000.0</td>\n",
       "    </tr>\n",
       "    <tr>\n",
       "      <th>2021-12-31</th>\n",
       "      <td>5451000000.0</td>\n",
       "      <td>1490000000.0</td>\n",
       "      <td>25250000000.0</td>\n",
       "    </tr>\n",
       "    <tr>\n",
       "      <th>2020-12-31</th>\n",
       "      <td>2525000000.0</td>\n",
       "      <td>1217000000.0</td>\n",
       "      <td>22327000000.0</td>\n",
       "    </tr>\n",
       "    <tr>\n",
       "      <th>2019-12-31</th>\n",
       "      <td>NaN</td>\n",
       "      <td>NaN</td>\n",
       "      <td>NaN</td>\n",
       "    </tr>\n",
       "  </tbody>\n",
       "</table>\n",
       "</div>"
      ],
      "text/plain": [
       "           Tax Provision Selling And Marketing Expense  \\\n",
       "2023-12-31  3528000000.0                  1393000000.0   \n",
       "2022-12-31  3642000000.0                  1556000000.0   \n",
       "2021-12-31  5451000000.0                  1490000000.0   \n",
       "2020-12-31  2525000000.0                  1217000000.0   \n",
       "2019-12-31           NaN                           NaN   \n",
       "\n",
       "           General And Administrative Expense  \n",
       "2023-12-31                      29319000000.0  \n",
       "2022-12-31                      26749000000.0  \n",
       "2021-12-31                      25250000000.0  \n",
       "2020-12-31                      22327000000.0  \n",
       "2019-12-31                                NaN  "
      ]
     },
     "execution_count": 14,
     "metadata": {},
     "output_type": "execute_result"
    }
   ],
   "source": [
    "df_citi"
   ]
  },
  {
   "cell_type": "code",
   "execution_count": 15,
   "id": "28d16bb2",
   "metadata": {},
   "outputs": [],
   "source": [
    "# Drop the last row\n",
    "df_citi.drop(df_citi.tail(1).index,inplace=True)"
   ]
  },
  {
   "cell_type": "code",
   "execution_count": 16,
   "id": "c24fc4bc",
   "metadata": {},
   "outputs": [
    {
     "name": "stdout",
     "output_type": "stream",
     "text": [
      "Pearson correlation coefficient: -0.1899441505103251\n",
      "Spearman correlation coefficient: -0.39999999999999997\n",
      "Kendall correlation coefficient: -0.3333333333333334\n"
     ]
    }
   ],
   "source": [
    "x = df[\"Citi Group\"]\n",
    "y = df_citi[\"General And Administrative Expense\"]\n",
    "pearson_coef, _ = pearsonr(x, y)\n",
    "print(\"Pearson correlation coefficient:\", pearson_coef)\n",
    "\n",
    "spearman_coef, _ = spearmanr(x, y)\n",
    "print(\"Spearman correlation coefficient:\", spearman_coef)\n",
    "\n",
    "kendall_coef, _ = kendalltau(x, y)\n",
    "print(\"Kendall correlation coefficient:\", kendall_coef)"
   ]
  },
  {
   "cell_type": "code",
   "execution_count": 17,
   "id": "1ea526ff",
   "metadata": {},
   "outputs": [
    {
     "name": "stdout",
     "output_type": "stream",
     "text": [
      "Pearson correlation coefficient: 0.873055098363501\n",
      "Spearman correlation coefficient: 0.7999999999999999\n",
      "Kendall correlation coefficient: 0.6666666666666669\n"
     ]
    }
   ],
   "source": [
    "x = df[\"Citi Group\"]\n",
    "y = df_citi[\"Tax Provision\"]\n",
    "pearson_coef, _ = pearsonr(x, y)\n",
    "print(\"Pearson correlation coefficient:\", pearson_coef)\n",
    "\n",
    "spearman_coef, _ = spearmanr(x, y)\n",
    "print(\"Spearman correlation coefficient:\", spearman_coef)\n",
    "\n",
    "kendall_coef, _ = kendalltau(x, y)\n",
    "print(\"Kendall correlation coefficient:\", kendall_coef)"
   ]
  },
  {
   "cell_type": "markdown",
   "id": "7e64d06f",
   "metadata": {},
   "source": [
    "When we look at the Pearson correlation coefficient, we retrieved that the value 0.598 with the identification that there is moderate correlation between Earning per share and Selling and Marketing Expense. We can see that, there is acutually weak negativecorrelation between Earning Per Share and General And Administrative Expense. However, when we look at the Tax Provision part, we can see that there is strong correlation between the value of Tax Provision and Earning Per Share "
   ]
  },
  {
   "cell_type": "markdown",
   "id": "576b9827",
   "metadata": {},
   "source": [
    "## State Street"
   ]
  },
  {
   "cell_type": "code",
   "execution_count": 18,
   "id": "4f74238b",
   "metadata": {},
   "outputs": [],
   "source": [
    "\n",
    "state_tax = inc_state.loc[\"Tax Provision\"]\n",
    "state_selling_marketing = inc_state.loc[\"Selling And Marketing Expense\"]\n",
    "state_gen_admin = inc_state.loc[\"General And Administrative Expense\"]\n",
    "\n",
    "state_dict ={\"Tax Provision\" : state_tax,\n",
    "            \"Selling And Marketing Expense\": state_selling_marketing,\n",
    "            \"General And Administrative Expense\": state_gen_admin\n",
    "}\n",
    "df_state = pd.DataFrame(state_dict)"
   ]
  },
  {
   "cell_type": "code",
   "execution_count": 19,
   "id": "6a9f5798",
   "metadata": {},
   "outputs": [
    {
     "data": {
      "text/html": [
       "<div>\n",
       "<style scoped>\n",
       "    .dataframe tbody tr th:only-of-type {\n",
       "        vertical-align: middle;\n",
       "    }\n",
       "\n",
       "    .dataframe tbody tr th {\n",
       "        vertical-align: top;\n",
       "    }\n",
       "\n",
       "    .dataframe thead th {\n",
       "        text-align: right;\n",
       "    }\n",
       "</style>\n",
       "<table border=\"1\" class=\"dataframe\">\n",
       "  <thead>\n",
       "    <tr style=\"text-align: right;\">\n",
       "      <th></th>\n",
       "      <th>Tax Provision</th>\n",
       "      <th>Selling And Marketing Expense</th>\n",
       "      <th>General And Administrative Expense</th>\n",
       "    </tr>\n",
       "  </thead>\n",
       "  <tbody>\n",
       "    <tr>\n",
       "      <th>2023-12-31</th>\n",
       "      <td>372000000.0</td>\n",
       "      <td>142000000.0</td>\n",
       "      <td>4562000000.0</td>\n",
       "    </tr>\n",
       "    <tr>\n",
       "      <th>2022-12-31</th>\n",
       "      <td>553000000.0</td>\n",
       "      <td>99000000.0</td>\n",
       "      <td>4378000000.0</td>\n",
       "    </tr>\n",
       "    <tr>\n",
       "      <th>2021-12-31</th>\n",
       "      <td>478000000.0</td>\n",
       "      <td>73000000.0</td>\n",
       "      <td>4586000000.0</td>\n",
       "    </tr>\n",
       "    <tr>\n",
       "      <th>2020-12-31</th>\n",
       "      <td>479000000.0</td>\n",
       "      <td>77000000.0</td>\n",
       "      <td>4368000000.0</td>\n",
       "    </tr>\n",
       "    <tr>\n",
       "      <th>2019-12-31</th>\n",
       "      <td>NaN</td>\n",
       "      <td>NaN</td>\n",
       "      <td>NaN</td>\n",
       "    </tr>\n",
       "  </tbody>\n",
       "</table>\n",
       "</div>"
      ],
      "text/plain": [
       "           Tax Provision Selling And Marketing Expense  \\\n",
       "2023-12-31   372000000.0                   142000000.0   \n",
       "2022-12-31   553000000.0                    99000000.0   \n",
       "2021-12-31   478000000.0                    73000000.0   \n",
       "2020-12-31   479000000.0                    77000000.0   \n",
       "2019-12-31           NaN                           NaN   \n",
       "\n",
       "           General And Administrative Expense  \n",
       "2023-12-31                       4562000000.0  \n",
       "2022-12-31                       4378000000.0  \n",
       "2021-12-31                       4586000000.0  \n",
       "2020-12-31                       4368000000.0  \n",
       "2019-12-31                                NaN  "
      ]
     },
     "execution_count": 19,
     "metadata": {},
     "output_type": "execute_result"
    }
   ],
   "source": [
    "df_state"
   ]
  },
  {
   "cell_type": "code",
   "execution_count": 56,
   "id": "7f095f7b",
   "metadata": {},
   "outputs": [],
   "source": [
    "# Drop the last row\n",
    "df_state.drop(df_state.tail(1).index,inplace=True)"
   ]
  },
  {
   "cell_type": "code",
   "execution_count": 57,
   "id": "c8b16506",
   "metadata": {},
   "outputs": [
    {
     "name": "stdout",
     "output_type": "stream",
     "text": [
      "Pearson correlation coefficient: -0.7212124593500673\n",
      "Spearman correlation coefficient: -0.632455532033676\n",
      "Kendall correlation coefficient: -0.5477225575051662\n"
     ]
    }
   ],
   "source": [
    "x = df[\"State Street\"]\n",
    "y = df_state[\"Selling And Marketing Expense\"]\n",
    "pearson_coef, _ = pearsonr(x, y)\n",
    "print(\"Pearson correlation coefficient:\", pearson_coef)\n",
    "\n",
    "spearman_coef, _ = spearmanr(x, y)\n",
    "print(\"Spearman correlation coefficient:\", spearman_coef)\n",
    "\n",
    "kendall_coef, _ = kendalltau(x, y)\n",
    "print(\"Kendall correlation coefficient:\", kendall_coef)"
   ]
  },
  {
   "cell_type": "code",
   "execution_count": 131,
   "id": "98f88519",
   "metadata": {},
   "outputs": [
    {
     "name": "stdout",
     "output_type": "stream",
     "text": [
      "Pearson correlation coefficient: -0.18663607623338274\n",
      "Spearman correlation coefficient: 0.21081851067789195\n",
      "Kendall correlation coefficient: 0.18257418583505539\n"
     ]
    }
   ],
   "source": [
    "x = df[\"State Street\"]\n",
    "y = df_state[\"General And Administrative Expense\"]\n",
    "pearson_coef, _ = pearsonr(x, y)\n",
    "print(\"Pearson correlation coefficient:\", pearson_coef)\n",
    "\n",
    "spearman_coef, _ = spearmanr(x, y)\n",
    "print(\"Spearman correlation coefficient:\", spearman_coef)\n",
    "\n",
    "kendall_coef, _ = kendalltau(x, y)\n",
    "print(\"Kendall correlation coefficient:\", kendall_coef)"
   ]
  },
  {
   "cell_type": "code",
   "execution_count": 132,
   "id": "9d725141",
   "metadata": {},
   "outputs": [
    {
     "name": "stdout",
     "output_type": "stream",
     "text": [
      "Pearson correlation coefficient: 0.8709202268580564\n",
      "Spearman correlation coefficient: 0.632455532033676\n",
      "Kendall correlation coefficient: 0.5477225575051662\n"
     ]
    }
   ],
   "source": [
    "x = df[\"State Street\"]\n",
    "y = df_state[\"Tax Provision\"]\n",
    "pearson_coef, _ = pearsonr(x, y)\n",
    "print(\"Pearson correlation coefficient:\", pearson_coef)\n",
    "\n",
    "spearman_coef, _ = spearmanr(x, y)\n",
    "print(\"Spearman correlation coefficient:\", spearman_coef)\n",
    "\n",
    "kendall_coef, _ = kendalltau(x, y)\n",
    "print(\"Kendall correlation coefficient:\", kendall_coef)"
   ]
  },
  {
   "cell_type": "markdown",
   "id": "410d361e",
   "metadata": {},
   "source": [
    "When we look at the Pearson correlation coefficient between Earning per share and Selling and Marketing Expense. Similarly, we can see that, there is acutually no correlation between Earning Per Share and General And Administrative Expense. However, when we look at the Tax Provision part, we can see that there is strong correlation between the value of Tax Provision and Earning Per Share. "
   ]
  },
  {
   "cell_type": "code",
   "execution_count": 96,
   "id": "3d44220c",
   "metadata": {},
   "outputs": [
    {
     "data": {
      "text/html": [
       "<div>\n",
       "<style scoped>\n",
       "    .dataframe tbody tr th:only-of-type {\n",
       "        vertical-align: middle;\n",
       "    }\n",
       "\n",
       "    .dataframe tbody tr th {\n",
       "        vertical-align: top;\n",
       "    }\n",
       "\n",
       "    .dataframe thead th {\n",
       "        text-align: right;\n",
       "    }\n",
       "</style>\n",
       "<table border=\"1\" class=\"dataframe\">\n",
       "  <thead>\n",
       "    <tr style=\"text-align: right;\">\n",
       "      <th></th>\n",
       "      <th>Tax Provision</th>\n",
       "      <th>Selling And Marketing Expense</th>\n",
       "      <th>General And Administrative Expense</th>\n",
       "    </tr>\n",
       "  </thead>\n",
       "  <tbody>\n",
       "    <tr>\n",
       "      <th>2023-12-31</th>\n",
       "      <td>372000000.0</td>\n",
       "      <td>142000000.0</td>\n",
       "      <td>4562000000.0</td>\n",
       "    </tr>\n",
       "    <tr>\n",
       "      <th>2022-12-31</th>\n",
       "      <td>553000000.0</td>\n",
       "      <td>99000000.0</td>\n",
       "      <td>4378000000.0</td>\n",
       "    </tr>\n",
       "    <tr>\n",
       "      <th>2021-12-31</th>\n",
       "      <td>478000000.0</td>\n",
       "      <td>73000000.0</td>\n",
       "      <td>4586000000.0</td>\n",
       "    </tr>\n",
       "    <tr>\n",
       "      <th>2020-12-31</th>\n",
       "      <td>479000000.0</td>\n",
       "      <td>77000000.0</td>\n",
       "      <td>4368000000.0</td>\n",
       "    </tr>\n",
       "  </tbody>\n",
       "</table>\n",
       "</div>"
      ],
      "text/plain": [
       "           Tax Provision Selling And Marketing Expense  \\\n",
       "2023-12-31   372000000.0                   142000000.0   \n",
       "2022-12-31   553000000.0                    99000000.0   \n",
       "2021-12-31   478000000.0                    73000000.0   \n",
       "2020-12-31   479000000.0                    77000000.0   \n",
       "\n",
       "           General And Administrative Expense  \n",
       "2023-12-31                       4562000000.0  \n",
       "2022-12-31                       4378000000.0  \n",
       "2021-12-31                       4586000000.0  \n",
       "2020-12-31                       4368000000.0  "
      ]
     },
     "execution_count": 96,
     "metadata": {},
     "output_type": "execute_result"
    }
   ],
   "source": [
    "df_state"
   ]
  },
  {
   "cell_type": "markdown",
   "id": "2bed7af0",
   "metadata": {},
   "source": [
    "## BNY Mellon"
   ]
  },
  {
   "cell_type": "code",
   "execution_count": 59,
   "id": "3fb44c65",
   "metadata": {},
   "outputs": [],
   "source": [
    "bny_tax = inc_bny.loc[\"Tax Provision\"]\n",
    "bny_gen_admin = inc_bny.loc[\"General And Administrative Expense\"]\n",
    "\n",
    "bny_dict ={\"Tax Provision\" : bny_tax,\n",
    "            \"General And Administrative Expense\": bny_gen_admin}\n",
    "df_bny = pd.DataFrame(bny_dict)"
   ]
  },
  {
   "cell_type": "code",
   "execution_count": 60,
   "id": "0108edfa",
   "metadata": {},
   "outputs": [
    {
     "data": {
      "text/html": [
       "<div>\n",
       "<style scoped>\n",
       "    .dataframe tbody tr th:only-of-type {\n",
       "        vertical-align: middle;\n",
       "    }\n",
       "\n",
       "    .dataframe tbody tr th {\n",
       "        vertical-align: top;\n",
       "    }\n",
       "\n",
       "    .dataframe thead th {\n",
       "        text-align: right;\n",
       "    }\n",
       "</style>\n",
       "<table border=\"1\" class=\"dataframe\">\n",
       "  <thead>\n",
       "    <tr style=\"text-align: right;\">\n",
       "      <th></th>\n",
       "      <th>Tax Provision</th>\n",
       "      <th>General And Administrative Expense</th>\n",
       "    </tr>\n",
       "  </thead>\n",
       "  <tbody>\n",
       "    <tr>\n",
       "      <th>2023-12-31</th>\n",
       "      <td>800000000.0</td>\n",
       "      <td>6828000000.0</td>\n",
       "    </tr>\n",
       "    <tr>\n",
       "      <th>2022-12-31</th>\n",
       "      <td>768000000.0</td>\n",
       "      <td>6585000000.0</td>\n",
       "    </tr>\n",
       "    <tr>\n",
       "      <th>2021-12-31</th>\n",
       "      <td>877000000.0</td>\n",
       "      <td>6337000000.0</td>\n",
       "    </tr>\n",
       "    <tr>\n",
       "      <th>2020-12-31</th>\n",
       "      <td>842000000.0</td>\n",
       "      <td>5966000000.0</td>\n",
       "    </tr>\n",
       "    <tr>\n",
       "      <th>2019-12-31</th>\n",
       "      <td>NaN</td>\n",
       "      <td>NaN</td>\n",
       "    </tr>\n",
       "  </tbody>\n",
       "</table>\n",
       "</div>"
      ],
      "text/plain": [
       "           Tax Provision General And Administrative Expense\n",
       "2023-12-31   800000000.0                       6828000000.0\n",
       "2022-12-31   768000000.0                       6585000000.0\n",
       "2021-12-31   877000000.0                       6337000000.0\n",
       "2020-12-31   842000000.0                       5966000000.0\n",
       "2019-12-31           NaN                                NaN"
      ]
     },
     "execution_count": 60,
     "metadata": {},
     "output_type": "execute_result"
    }
   ],
   "source": [
    "df_bny"
   ]
  },
  {
   "cell_type": "code",
   "execution_count": 63,
   "id": "3a31c3ab",
   "metadata": {},
   "outputs": [],
   "source": [
    "# Drop the last row\n",
    "df_bny.drop(df_bny.tail(1).index,inplace=True)"
   ]
  },
  {
   "cell_type": "code",
   "execution_count": 64,
   "id": "dbf9cb18",
   "metadata": {},
   "outputs": [
    {
     "data": {
      "text/html": [
       "<div>\n",
       "<style scoped>\n",
       "    .dataframe tbody tr th:only-of-type {\n",
       "        vertical-align: middle;\n",
       "    }\n",
       "\n",
       "    .dataframe tbody tr th {\n",
       "        vertical-align: top;\n",
       "    }\n",
       "\n",
       "    .dataframe thead th {\n",
       "        text-align: right;\n",
       "    }\n",
       "</style>\n",
       "<table border=\"1\" class=\"dataframe\">\n",
       "  <thead>\n",
       "    <tr style=\"text-align: right;\">\n",
       "      <th></th>\n",
       "      <th>Tax Provision</th>\n",
       "      <th>General And Administrative Expense</th>\n",
       "    </tr>\n",
       "  </thead>\n",
       "  <tbody>\n",
       "    <tr>\n",
       "      <th>2023-12-31</th>\n",
       "      <td>800000000.0</td>\n",
       "      <td>6828000000.0</td>\n",
       "    </tr>\n",
       "    <tr>\n",
       "      <th>2022-12-31</th>\n",
       "      <td>768000000.0</td>\n",
       "      <td>6585000000.0</td>\n",
       "    </tr>\n",
       "    <tr>\n",
       "      <th>2021-12-31</th>\n",
       "      <td>877000000.0</td>\n",
       "      <td>6337000000.0</td>\n",
       "    </tr>\n",
       "    <tr>\n",
       "      <th>2020-12-31</th>\n",
       "      <td>842000000.0</td>\n",
       "      <td>5966000000.0</td>\n",
       "    </tr>\n",
       "  </tbody>\n",
       "</table>\n",
       "</div>"
      ],
      "text/plain": [
       "           Tax Provision General And Administrative Expense\n",
       "2023-12-31   800000000.0                       6828000000.0\n",
       "2022-12-31   768000000.0                       6585000000.0\n",
       "2021-12-31   877000000.0                       6337000000.0\n",
       "2020-12-31   842000000.0                       5966000000.0"
      ]
     },
     "execution_count": 64,
     "metadata": {},
     "output_type": "execute_result"
    }
   ],
   "source": [
    "df_bny"
   ]
  },
  {
   "cell_type": "code",
   "execution_count": 136,
   "id": "c93968ce",
   "metadata": {},
   "outputs": [
    {
     "name": "stdout",
     "output_type": "stream",
     "text": [
      "Pearson correlation coefficient: 0.8555371012512922\n",
      "Spearman correlation coefficient: 0.7999999999999999\n",
      "Kendall correlation coefficient: 0.6666666666666669\n"
     ]
    }
   ],
   "source": [
    "x = df[\"BNY Mellon\"]\n",
    "y = df_bny[\"Tax Provision\"]\n",
    "pearson_coef, _ = pearsonr(x, y)\n",
    "print(\"Pearson correlation coefficient:\", pearson_coef)\n",
    "\n",
    "spearman_coef, _ = spearmanr(x, y)\n",
    "print(\"Spearman correlation coefficient:\", spearman_coef)\n",
    "\n",
    "kendall_coef, _ = kendalltau(x, y)\n",
    "print(\"Kendall correlation coefficient:\", kendall_coef)"
   ]
  },
  {
   "cell_type": "code",
   "execution_count": 138,
   "id": "49fb5ebd",
   "metadata": {},
   "outputs": [
    {
     "name": "stdout",
     "output_type": "stream",
     "text": [
      "Pearson correlation coefficient: -0.26383640688331556\n",
      "Spearman correlation coefficient: 0.0\n",
      "Kendall correlation coefficient: 0.0\n"
     ]
    }
   ],
   "source": [
    "x = df[\"BNY Mellon\"]\n",
    "y = df_bny[\"General And Administrative Expense\"]\n",
    "pearson_coef, _ = pearsonr(x, y)\n",
    "print(\"Pearson correlation coefficient:\", pearson_coef)\n",
    "\n",
    "spearman_coef, _ = spearmanr(x, y)\n",
    "print(\"Spearman correlation coefficient:\", spearman_coef)\n",
    "\n",
    "kendall_coef, _ = kendalltau(x, y)\n",
    "print(\"Kendall correlation coefficient:\", kendall_coef)"
   ]
  },
  {
   "cell_type": "markdown",
   "id": "a405a45f",
   "metadata": {},
   "source": [
    "## UBS"
   ]
  },
  {
   "cell_type": "code",
   "execution_count": 97,
   "id": "9ccdc381",
   "metadata": {},
   "outputs": [],
   "source": [
    "ubs_tax = inc_ubs.loc[\"Tax Provision\"]\n",
    "ubs_selling_marketing = inc_ubs.loc[\"Selling And Marketing Expense\"]\n",
    "ubs_gen_admin = inc_ubs.loc[\"General And Administrative Expense\"]\n",
    "\n",
    "ubs_dict ={\"Tax Provision\" : ubs_tax,\n",
    "            \"Selling And Marketing Expense\": ubs_selling_marketing,\n",
    "            \"General And Administrative Expense\": ubs_gen_admin\n",
    "}\n",
    "df_ubs = pd.DataFrame(ubs_dict)"
   ]
  },
  {
   "cell_type": "code",
   "execution_count": 98,
   "id": "6f6e8fe7",
   "metadata": {},
   "outputs": [
    {
     "data": {
      "text/html": [
       "<div>\n",
       "<style scoped>\n",
       "    .dataframe tbody tr th:only-of-type {\n",
       "        vertical-align: middle;\n",
       "    }\n",
       "\n",
       "    .dataframe tbody tr th {\n",
       "        vertical-align: top;\n",
       "    }\n",
       "\n",
       "    .dataframe thead th {\n",
       "        text-align: right;\n",
       "    }\n",
       "</style>\n",
       "<table border=\"1\" class=\"dataframe\">\n",
       "  <thead>\n",
       "    <tr style=\"text-align: right;\">\n",
       "      <th></th>\n",
       "      <th>Tax Provision</th>\n",
       "      <th>Selling And Marketing Expense</th>\n",
       "      <th>General And Administrative Expense</th>\n",
       "    </tr>\n",
       "  </thead>\n",
       "  <tbody>\n",
       "    <tr>\n",
       "      <th>2023-12-31</th>\n",
       "      <td>873000000.0</td>\n",
       "      <td>408000000.0</td>\n",
       "      <td>27189000000.0</td>\n",
       "    </tr>\n",
       "    <tr>\n",
       "      <th>2022-12-31</th>\n",
       "      <td>1942000000.0</td>\n",
       "      <td>265000000.0</td>\n",
       "      <td>21059000000.0</td>\n",
       "    </tr>\n",
       "    <tr>\n",
       "      <th>2021-12-31</th>\n",
       "      <td>1998000000.0</td>\n",
       "      <td>242000000.0</td>\n",
       "      <td>21612000000.0</td>\n",
       "    </tr>\n",
       "    <tr>\n",
       "      <th>2020-12-31</th>\n",
       "      <td>1583000000.0</td>\n",
       "      <td>217000000.0</td>\n",
       "      <td>20378000000.0</td>\n",
       "    </tr>\n",
       "    <tr>\n",
       "      <th>2019-12-31</th>\n",
       "      <td>NaN</td>\n",
       "      <td>NaN</td>\n",
       "      <td>NaN</td>\n",
       "    </tr>\n",
       "  </tbody>\n",
       "</table>\n",
       "</div>"
      ],
      "text/plain": [
       "           Tax Provision Selling And Marketing Expense  \\\n",
       "2023-12-31   873000000.0                   408000000.0   \n",
       "2022-12-31  1942000000.0                   265000000.0   \n",
       "2021-12-31  1998000000.0                   242000000.0   \n",
       "2020-12-31  1583000000.0                   217000000.0   \n",
       "2019-12-31           NaN                           NaN   \n",
       "\n",
       "           General And Administrative Expense  \n",
       "2023-12-31                      27189000000.0  \n",
       "2022-12-31                      21059000000.0  \n",
       "2021-12-31                      21612000000.0  \n",
       "2020-12-31                      20378000000.0  \n",
       "2019-12-31                                NaN  "
      ]
     },
     "execution_count": 98,
     "metadata": {},
     "output_type": "execute_result"
    }
   ],
   "source": [
    "df_ubs"
   ]
  },
  {
   "cell_type": "code",
   "execution_count": 99,
   "id": "4c6224d6",
   "metadata": {},
   "outputs": [],
   "source": [
    "df_ubs.drop(df_ubs.tail(1).index,inplace=True)"
   ]
  },
  {
   "cell_type": "code",
   "execution_count": 139,
   "id": "e4bd874a",
   "metadata": {},
   "outputs": [
    {
     "name": "stdout",
     "output_type": "stream",
     "text": [
      "Pearson correlation coefficient: 0.9911742372284684\n",
      "Spearman correlation coefficient: 0.7999999999999999\n",
      "Kendall correlation coefficient: 0.6666666666666669\n"
     ]
    }
   ],
   "source": [
    "x = df[\"UBS\"]\n",
    "y = df_ubs[\"General And Administrative Expense\"]\n",
    "pearson_coef, _ = pearsonr(x, y)\n",
    "print(\"Pearson correlation coefficient:\", pearson_coef)\n",
    "\n",
    "spearman_coef, _ = spearmanr(x, y)\n",
    "print(\"Spearman correlation coefficient:\", spearman_coef)\n",
    "\n",
    "kendall_coef, _ = kendalltau(x, y)\n",
    "print(\"Kendall correlation coefficient:\", kendall_coef)"
   ]
  },
  {
   "cell_type": "code",
   "execution_count": 140,
   "id": "964f7d63",
   "metadata": {},
   "outputs": [
    {
     "name": "stdout",
     "output_type": "stream",
     "text": [
      "Pearson correlation coefficient: 0.9851611178897732\n",
      "Spearman correlation coefficient: 1.0\n",
      "Kendall correlation coefficient: 1.0\n"
     ]
    }
   ],
   "source": [
    "x = df[\"UBS\"]\n",
    "y = df_ubs[\"Selling And Marketing Expense\"]\n",
    "pearson_coef, _ = pearsonr(x, y)\n",
    "print(\"Pearson correlation coefficient:\", pearson_coef)\n",
    "\n",
    "spearman_coef, _ = spearmanr(x, y)\n",
    "print(\"Spearman correlation coefficient:\", spearman_coef)\n",
    "\n",
    "kendall_coef, _ = kendalltau(x, y)\n",
    "print(\"Kendall correlation coefficient:\", kendall_coef)"
   ]
  },
  {
   "cell_type": "code",
   "execution_count": 141,
   "id": "8b67be3a",
   "metadata": {},
   "outputs": [
    {
     "name": "stdout",
     "output_type": "stream",
     "text": [
      "Pearson correlation coefficient: -0.9154096199008013\n",
      "Spearman correlation coefficient: -0.39999999999999997\n",
      "Kendall correlation coefficient: -0.3333333333333334\n"
     ]
    }
   ],
   "source": [
    "x = df[\"UBS\"]\n",
    "y = df_ubs[\"Tax Provision\"]\n",
    "pearson_coef, _ = pearsonr(x, y)\n",
    "print(\"Pearson correlation coefficient:\", pearson_coef)\n",
    "\n",
    "spearman_coef, _ = spearmanr(x, y)\n",
    "print(\"Spearman correlation coefficient:\", spearman_coef)\n",
    "\n",
    "kendall_coef, _ = kendalltau(x, y)\n",
    "print(\"Kendall correlation coefficient:\", kendall_coef)"
   ]
  },
  {
   "cell_type": "markdown",
   "id": "9d220e1c",
   "metadata": {},
   "source": [
    "Coefficient of Determination \n",
    "https://www.investopedia.com/terms/c/coefficient-of-determination.asp\n",
    "\n",
    "\n",
    "\n",
    "This coefficient generally answers the following question: If a stock is listed on an index and experiences price movements, what percentage of its price movement is attributed to the index's price movement?\n",
    "    \n"
   ]
  },
  {
   "cell_type": "code",
   "execution_count": 40,
   "id": "419c354f",
   "metadata": {},
   "outputs": [],
   "source": [
    "# Setup the start and end time stamp for the time series\n",
    "end = datetime.now()\n",
    "start = datetime(end.year - 4,end.month,end.day)"
   ]
  },
  {
   "cell_type": "code",
   "execution_count": 128,
   "id": "e2b610e9",
   "metadata": {},
   "outputs": [
    {
     "name": "stderr",
     "output_type": "stream",
     "text": [
      "[*********************100%%**********************]  1 of 1 completed\n",
      "[*********************100%%**********************]  1 of 1 completed\n",
      "[*********************100%%**********************]  1 of 1 completed\n",
      "[*********************100%%**********************]  1 of 1 completed\n"
     ]
    }
   ],
   "source": [
    "# Using global methods to \n",
    "for stock in fin_list:\n",
    "    globals()[stock] = yf.download(stock, start, end)"
   ]
  },
  {
   "cell_type": "code",
   "execution_count": 91,
   "id": "1abdfb68",
   "metadata": {},
   "outputs": [],
   "source": [
    "company_list = [STT, C, BK, UBS]\n",
    "company_name = [\"State Street\", \"Citi Bank\", \"BNY MELLON \", \"UBS\"]"
   ]
  },
  {
   "cell_type": "code",
   "execution_count": 190,
   "id": "1ade6dfe",
   "metadata": {
    "scrolled": true
   },
   "outputs": [],
   "source": [
    "for company, com_name in zip(company_list, company_name):\n",
    "    company[\"company_name\"] = com_name\n"
   ]
  },
  {
   "cell_type": "code",
   "execution_count": 122,
   "id": "51d28738",
   "metadata": {},
   "outputs": [],
   "source": [
    "df = pd.concat(company_list, axis=0)\n",
    "x= STT[\"Open\"][].mean()\n",
    "y = C[\"Open\"].mean()"
   ]
  },
  {
   "cell_type": "code",
   "execution_count": 189,
   "id": "249186c6",
   "metadata": {},
   "outputs": [
    {
     "name": "stdout",
     "output_type": "stream",
     "text": [
      "76.3961210856362\n"
     ]
    }
   ],
   "source": [
    "print(x)"
   ]
  },
  {
   "cell_type": "code",
   "execution_count": null,
   "id": "8f7e0f18",
   "metadata": {},
   "outputs": [],
   "source": []
  }
 ],
 "metadata": {
  "kernelspec": {
   "display_name": "Python 3",
   "language": "python",
   "name": "python3"
  },
  "language_info": {
   "codemirror_mode": {
    "name": "ipython",
    "version": 3
   },
   "file_extension": ".py",
   "mimetype": "text/x-python",
   "name": "python",
   "nbconvert_exporter": "python",
   "pygments_lexer": "ipython3",
   "version": "3.8.8"
  }
 },
 "nbformat": 4,
 "nbformat_minor": 5
}
