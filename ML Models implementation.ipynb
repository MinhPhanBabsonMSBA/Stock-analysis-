{
 "cells": [
  {
   "cell_type": "markdown",
   "id": "b85d6738",
   "metadata": {},
   "source": [
    "As the yfinance package is a powerful tool to combine the technology edge of data analysis and trading finance.\n",
    "In this project, the main objective is the comparasion between DCF( Discounted Cash Flow) calculation on the stock price and the ML approach of using historical data to predict stock price \n",
    "\n",
    "1. Step 1 : Get the DCF result from yfinance\n",
    "2. Step 2 : Data Prep for ML \n",
    "3. Step 3: Building the ML model using Random forest method(X:historical data(trailing PE,open,closed,trading volume) and LSTM approach\n",
    "4. Step 4: Compare 2 models results to each other and DCL approach from the yfinance data (bank_of_america.info[\"forwardPE\"])"
   ]
  },
  {
   "cell_type": "code",
   "execution_count": 2,
   "id": "763a52e4",
   "metadata": {
    "scrolled": true
   },
   "outputs": [],
   "source": [
    "# importing modules \n",
    "import pandas as pd\n",
    "from datetime import datetime\n",
    "import yfinance as yf\n",
    "import scipy.stats\n",
    "import statistics\n",
    "from scipy.stats import pearsonr, spearmanr, kendalltau\n",
    "import matplotlib.pyplot as plt\n",
    "from sklearn.linear_model import LinearRegression\n",
    "from sklearn import linear_model\n",
    "import seaborn as sns\n",
    "import pandas_datareader as pdr\n",
    "import datetime"
   ]
  },
  {
   "cell_type": "markdown",
   "id": "c80b7e07",
   "metadata": {},
   "source": [
    "Data Prep"
   ]
  },
  {
   "cell_type": "code",
   "execution_count": 50,
   "id": "9216384d",
   "metadata": {},
   "outputs": [],
   "source": [
    "# Using the yfinance lib \n",
    "goldman = yf.Ticker(\"GS\")\n",
    "jp = yf.Ticker(\"JPM\")\n",
    "ms = yf.Ticker(\"MS\")\n",
    "\n",
    "goldman_eps = goldman.income_stmt.T\n"
   ]
  },
  {
   "cell_type": "code",
   "execution_count": 52,
   "id": "60f32ac6",
   "metadata": {},
   "outputs": [
    {
     "data": {
      "text/plain": [
       "2023-12-31        22.87\n",
       "2022-12-31        30.06\n",
       "2021-12-31    59.450001\n",
       "2020-12-31        24.74\n",
       "Name: Diluted EPS, dtype: object"
      ]
     },
     "execution_count": 52,
     "metadata": {},
     "output_type": "execute_result"
    }
   ],
   "source": [
    "goldman_eps[\"Diluted EPS\"]"
   ]
  },
  {
   "cell_type": "markdown",
   "id": "6544b322",
   "metadata": {},
   "source": [
    "## DCF Method Calculation "
   ]
  },
  {
   "cell_type": "code",
   "execution_count": 10,
   "id": "7f79afc3",
   "metadata": {},
   "outputs": [
    {
     "data": {
      "text/html": [
       "<div>\n",
       "<style scoped>\n",
       "    .dataframe tbody tr th:only-of-type {\n",
       "        vertical-align: middle;\n",
       "    }\n",
       "\n",
       "    .dataframe tbody tr th {\n",
       "        vertical-align: top;\n",
       "    }\n",
       "\n",
       "    .dataframe thead th {\n",
       "        text-align: right;\n",
       "    }\n",
       "</style>\n",
       "<table border=\"1\" class=\"dataframe\">\n",
       "  <thead>\n",
       "    <tr style=\"text-align: right;\">\n",
       "      <th></th>\n",
       "      <th>Open</th>\n",
       "      <th>High</th>\n",
       "      <th>Low</th>\n",
       "      <th>Close</th>\n",
       "      <th>Volume</th>\n",
       "      <th>Dividends</th>\n",
       "      <th>Stock Splits</th>\n",
       "    </tr>\n",
       "    <tr>\n",
       "      <th>Date</th>\n",
       "      <th></th>\n",
       "      <th></th>\n",
       "      <th></th>\n",
       "      <th></th>\n",
       "      <th></th>\n",
       "      <th></th>\n",
       "      <th></th>\n",
       "    </tr>\n",
       "  </thead>\n",
       "  <tbody>\n",
       "    <tr>\n",
       "      <th>2020-01-13 00:00:00-05:00</th>\n",
       "      <td>216.283504</td>\n",
       "      <td>217.761139</td>\n",
       "      <td>215.009372</td>\n",
       "      <td>216.964813</td>\n",
       "      <td>3359200</td>\n",
       "      <td>0.0</td>\n",
       "      <td>0.0</td>\n",
       "    </tr>\n",
       "    <tr>\n",
       "      <th>2020-01-14 00:00:00-05:00</th>\n",
       "      <td>217.062143</td>\n",
       "      <td>219.893540</td>\n",
       "      <td>216.425077</td>\n",
       "      <td>217.362976</td>\n",
       "      <td>4302800</td>\n",
       "      <td>0.0</td>\n",
       "      <td>0.0</td>\n",
       "    </tr>\n",
       "    <tr>\n",
       "      <th>2020-01-15 00:00:00-05:00</th>\n",
       "      <td>214.124560</td>\n",
       "      <td>220.760652</td>\n",
       "      <td>211.611697</td>\n",
       "      <td>216.964813</td>\n",
       "      <td>5411200</td>\n",
       "      <td>0.0</td>\n",
       "      <td>0.0</td>\n",
       "    </tr>\n",
       "    <tr>\n",
       "      <th>2020-01-16 00:00:00-05:00</th>\n",
       "      <td>218.557460</td>\n",
       "      <td>221.043794</td>\n",
       "      <td>217.867308</td>\n",
       "      <td>220.955307</td>\n",
       "      <td>3968400</td>\n",
       "      <td>0.0</td>\n",
       "      <td>0.0</td>\n",
       "    </tr>\n",
       "    <tr>\n",
       "      <th>2020-01-17 00:00:00-05:00</th>\n",
       "      <td>221.406577</td>\n",
       "      <td>221.610093</td>\n",
       "      <td>219.433449</td>\n",
       "      <td>220.725281</td>\n",
       "      <td>3108400</td>\n",
       "      <td>0.0</td>\n",
       "      <td>0.0</td>\n",
       "    </tr>\n",
       "    <tr>\n",
       "      <th>...</th>\n",
       "      <td>...</td>\n",
       "      <td>...</td>\n",
       "      <td>...</td>\n",
       "      <td>...</td>\n",
       "      <td>...</td>\n",
       "      <td>...</td>\n",
       "      <td>...</td>\n",
       "    </tr>\n",
       "    <tr>\n",
       "      <th>2025-01-03 00:00:00-05:00</th>\n",
       "      <td>581.000000</td>\n",
       "      <td>582.140015</td>\n",
       "      <td>571.729980</td>\n",
       "      <td>580.130005</td>\n",
       "      <td>1422600</td>\n",
       "      <td>0.0</td>\n",
       "      <td>0.0</td>\n",
       "    </tr>\n",
       "    <tr>\n",
       "      <th>2025-01-06 00:00:00-05:00</th>\n",
       "      <td>584.979980</td>\n",
       "      <td>593.650024</td>\n",
       "      <td>579.820007</td>\n",
       "      <td>583.390015</td>\n",
       "      <td>2257000</td>\n",
       "      <td>0.0</td>\n",
       "      <td>0.0</td>\n",
       "    </tr>\n",
       "    <tr>\n",
       "      <th>2025-01-07 00:00:00-05:00</th>\n",
       "      <td>587.109985</td>\n",
       "      <td>588.280029</td>\n",
       "      <td>568.400024</td>\n",
       "      <td>580.119995</td>\n",
       "      <td>2021900</td>\n",
       "      <td>0.0</td>\n",
       "      <td>0.0</td>\n",
       "    </tr>\n",
       "    <tr>\n",
       "      <th>2025-01-08 00:00:00-05:00</th>\n",
       "      <td>581.039978</td>\n",
       "      <td>581.200012</td>\n",
       "      <td>572.669983</td>\n",
       "      <td>580.020020</td>\n",
       "      <td>1513400</td>\n",
       "      <td>0.0</td>\n",
       "      <td>0.0</td>\n",
       "    </tr>\n",
       "    <tr>\n",
       "      <th>2025-01-10 00:00:00-05:00</th>\n",
       "      <td>576.250000</td>\n",
       "      <td>576.250000</td>\n",
       "      <td>558.010010</td>\n",
       "      <td>560.000000</td>\n",
       "      <td>2816700</td>\n",
       "      <td>0.0</td>\n",
       "      <td>0.0</td>\n",
       "    </tr>\n",
       "  </tbody>\n",
       "</table>\n",
       "<p>1257 rows × 7 columns</p>\n",
       "</div>"
      ],
      "text/plain": [
       "                                 Open        High         Low       Close  \\\n",
       "Date                                                                        \n",
       "2020-01-13 00:00:00-05:00  216.283504  217.761139  215.009372  216.964813   \n",
       "2020-01-14 00:00:00-05:00  217.062143  219.893540  216.425077  217.362976   \n",
       "2020-01-15 00:00:00-05:00  214.124560  220.760652  211.611697  216.964813   \n",
       "2020-01-16 00:00:00-05:00  218.557460  221.043794  217.867308  220.955307   \n",
       "2020-01-17 00:00:00-05:00  221.406577  221.610093  219.433449  220.725281   \n",
       "...                               ...         ...         ...         ...   \n",
       "2025-01-03 00:00:00-05:00  581.000000  582.140015  571.729980  580.130005   \n",
       "2025-01-06 00:00:00-05:00  584.979980  593.650024  579.820007  583.390015   \n",
       "2025-01-07 00:00:00-05:00  587.109985  588.280029  568.400024  580.119995   \n",
       "2025-01-08 00:00:00-05:00  581.039978  581.200012  572.669983  580.020020   \n",
       "2025-01-10 00:00:00-05:00  576.250000  576.250000  558.010010  560.000000   \n",
       "\n",
       "                            Volume  Dividends  Stock Splits  \n",
       "Date                                                         \n",
       "2020-01-13 00:00:00-05:00  3359200        0.0           0.0  \n",
       "2020-01-14 00:00:00-05:00  4302800        0.0           0.0  \n",
       "2020-01-15 00:00:00-05:00  5411200        0.0           0.0  \n",
       "2020-01-16 00:00:00-05:00  3968400        0.0           0.0  \n",
       "2020-01-17 00:00:00-05:00  3108400        0.0           0.0  \n",
       "...                            ...        ...           ...  \n",
       "2025-01-03 00:00:00-05:00  1422600        0.0           0.0  \n",
       "2025-01-06 00:00:00-05:00  2257000        0.0           0.0  \n",
       "2025-01-07 00:00:00-05:00  2021900        0.0           0.0  \n",
       "2025-01-08 00:00:00-05:00  1513400        0.0           0.0  \n",
       "2025-01-10 00:00:00-05:00  2816700        0.0           0.0  \n",
       "\n",
       "[1257 rows x 7 columns]"
      ]
     },
     "execution_count": 10,
     "metadata": {},
     "output_type": "execute_result"
    }
   ],
   "source": []
  },
  {
   "cell_type": "markdown",
   "id": "30846b0b",
   "metadata": {},
   "source": []
  },
  {
   "cell_type": "markdown",
   "id": "09353ba4",
   "metadata": {},
   "source": [
    "Bellow is the functions to pull data from yahoo finance from list of selected stocks and put them into 1 DF"
   ]
  },
  {
   "cell_type": "code",
   "execution_count": 45,
   "id": "21d39aad",
   "metadata": {},
   "outputs": [
    {
     "data": {
      "text/html": [
       "<div>\n",
       "<style scoped>\n",
       "    .dataframe tbody tr th:only-of-type {\n",
       "        vertical-align: middle;\n",
       "    }\n",
       "\n",
       "    .dataframe tbody tr th {\n",
       "        vertical-align: top;\n",
       "    }\n",
       "\n",
       "    .dataframe thead th {\n",
       "        text-align: right;\n",
       "    }\n",
       "</style>\n",
       "<table border=\"1\" class=\"dataframe\">\n",
       "  <thead>\n",
       "    <tr style=\"text-align: right;\">\n",
       "      <th></th>\n",
       "      <th></th>\n",
       "      <th>Open</th>\n",
       "      <th>High</th>\n",
       "      <th>Low</th>\n",
       "      <th>Close</th>\n",
       "      <th>Volume</th>\n",
       "      <th>Dividends</th>\n",
       "      <th>Stock Splits</th>\n",
       "    </tr>\n",
       "    <tr>\n",
       "      <th>Ticker</th>\n",
       "      <th>Date</th>\n",
       "      <th></th>\n",
       "      <th></th>\n",
       "      <th></th>\n",
       "      <th></th>\n",
       "      <th></th>\n",
       "      <th></th>\n",
       "      <th></th>\n",
       "    </tr>\n",
       "  </thead>\n",
       "  <tbody>\n",
       "    <tr>\n",
       "      <th rowspan=\"5\" valign=\"top\">GS</th>\n",
       "      <th>2015-01-02 00:00:00-05:00</th>\n",
       "      <td>160.295621</td>\n",
       "      <td>160.648545</td>\n",
       "      <td>158.161624</td>\n",
       "      <td>159.565140</td>\n",
       "      <td>1877700</td>\n",
       "      <td>0.0</td>\n",
       "      <td>0.0</td>\n",
       "    </tr>\n",
       "    <tr>\n",
       "      <th>2015-01-05 00:00:00-05:00</th>\n",
       "      <td>158.457085</td>\n",
       "      <td>159.261433</td>\n",
       "      <td>153.877210</td>\n",
       "      <td>154.583069</td>\n",
       "      <td>3413200</td>\n",
       "      <td>0.0</td>\n",
       "      <td>0.0</td>\n",
       "    </tr>\n",
       "    <tr>\n",
       "      <th>2015-01-06 00:00:00-05:00</th>\n",
       "      <td>154.550239</td>\n",
       "      <td>154.845715</td>\n",
       "      <td>150.963483</td>\n",
       "      <td>151.455948</td>\n",
       "      <td>3429200</td>\n",
       "      <td>0.0</td>\n",
       "      <td>0.0</td>\n",
       "    </tr>\n",
       "    <tr>\n",
       "      <th>2015-01-07 00:00:00-05:00</th>\n",
       "      <td>153.360135</td>\n",
       "      <td>154.295808</td>\n",
       "      <td>152.473706</td>\n",
       "      <td>153.713058</td>\n",
       "      <td>1896800</td>\n",
       "      <td>0.0</td>\n",
       "      <td>0.0</td>\n",
       "    </tr>\n",
       "    <tr>\n",
       "      <th>2015-01-08 00:00:00-05:00</th>\n",
       "      <td>155.412042</td>\n",
       "      <td>156.618569</td>\n",
       "      <td>155.329960</td>\n",
       "      <td>156.167145</td>\n",
       "      <td>1962500</td>\n",
       "      <td>0.0</td>\n",
       "      <td>0.0</td>\n",
       "    </tr>\n",
       "  </tbody>\n",
       "</table>\n",
       "</div>"
      ],
      "text/plain": [
       "                                        Open        High         Low  \\\n",
       "Ticker Date                                                            \n",
       "GS     2015-01-02 00:00:00-05:00  160.295621  160.648545  158.161624   \n",
       "       2015-01-05 00:00:00-05:00  158.457085  159.261433  153.877210   \n",
       "       2015-01-06 00:00:00-05:00  154.550239  154.845715  150.963483   \n",
       "       2015-01-07 00:00:00-05:00  153.360135  154.295808  152.473706   \n",
       "       2015-01-08 00:00:00-05:00  155.412042  156.618569  155.329960   \n",
       "\n",
       "                                       Close   Volume  Dividends  Stock Splits  \n",
       "Ticker Date                                                                     \n",
       "GS     2015-01-02 00:00:00-05:00  159.565140  1877700        0.0           0.0  \n",
       "       2015-01-05 00:00:00-05:00  154.583069  3413200        0.0           0.0  \n",
       "       2015-01-06 00:00:00-05:00  151.455948  3429200        0.0           0.0  \n",
       "       2015-01-07 00:00:00-05:00  153.713058  1896800        0.0           0.0  \n",
       "       2015-01-08 00:00:00-05:00  156.167145  1962500        0.0           0.0  "
      ]
     },
     "execution_count": 45,
     "metadata": {},
     "output_type": "execute_result"
    }
   ],
   "source": [
    "def get(stocks, startdate, enddate):\n",
    "    def data(ticker):\n",
    "        # Fetch historical data for the ticker\n",
    "        return yf.Ticker(ticker).history(start=startdate, end=enddate)\n",
    "    \n",
    "    # Map the data fetching function to all stocks and concatenate the results\n",
    "    datas = map(data, stocks)\n",
    "    return pd.concat(datas, keys=stocks, names=['Ticker', 'Date'])\n",
    "\n",
    "# Define stock tickers and date range\n",
    "stocks = [\"GS\", \"MS\", \"JPM\"]\n",
    "start_date = datetime.datetime(2015, 1, 1)\n",
    "end_date = datetime.datetime(2019, 1, 1)\n",
    "\n",
    "# Fetch all data\n",
    "all_data = get(stocks, start_date, end_date)\n",
    "\n",
    "# Display the data\n",
    "all_data.head()"
   ]
  },
  {
   "cell_type": "code",
   "execution_count": 64,
   "id": "adbb3976",
   "metadata": {},
   "outputs": [
    {
     "ename": "KeyError",
     "evalue": "\"None of [Index([1, 2], dtype='int64')] are in the [columns]\"",
     "output_type": "error",
     "traceback": [
      "\u001b[0;31m---------------------------------------------------------------------------\u001b[0m",
      "\u001b[0;31mKeyError\u001b[0m                                  Traceback (most recent call last)",
      "\u001b[0;32m<ipython-input-64-9518a24e4743>\u001b[0m in \u001b[0;36m<module>\u001b[0;34m\u001b[0m\n\u001b[1;32m      1\u001b[0m \u001b[0mall_data\u001b[0m\u001b[0;34m.\u001b[0m\u001b[0miloc\u001b[0m\u001b[0;34m[\u001b[0m\u001b[0;36m1\u001b[0m\u001b[0;34m,\u001b[0m\u001b[0;36m2\u001b[0m\u001b[0;34m]\u001b[0m\u001b[0;34m\u001b[0m\u001b[0;34m\u001b[0m\u001b[0m\n\u001b[0;32m----> 2\u001b[0;31m \u001b[0mall_data\u001b[0m\u001b[0;34m[\u001b[0m\u001b[0;34m[\u001b[0m\u001b[0;36m1\u001b[0m\u001b[0;34m,\u001b[0m\u001b[0;36m2\u001b[0m\u001b[0;34m]\u001b[0m\u001b[0;34m]\u001b[0m\u001b[0;34m\u001b[0m\u001b[0;34m\u001b[0m\u001b[0m\n\u001b[0m",
      "\u001b[0;32m~/opt/anaconda3/lib/python3.8/site-packages/pandas/core/frame.py\u001b[0m in \u001b[0;36m__getitem__\u001b[0;34m(self, key)\u001b[0m\n\u001b[1;32m   3765\u001b[0m             \u001b[0;32mif\u001b[0m \u001b[0mis_iterator\u001b[0m\u001b[0;34m(\u001b[0m\u001b[0mkey\u001b[0m\u001b[0;34m)\u001b[0m\u001b[0;34m:\u001b[0m\u001b[0;34m\u001b[0m\u001b[0;34m\u001b[0m\u001b[0m\n\u001b[1;32m   3766\u001b[0m                 \u001b[0mkey\u001b[0m \u001b[0;34m=\u001b[0m \u001b[0mlist\u001b[0m\u001b[0;34m(\u001b[0m\u001b[0mkey\u001b[0m\u001b[0;34m)\u001b[0m\u001b[0;34m\u001b[0m\u001b[0;34m\u001b[0m\u001b[0m\n\u001b[0;32m-> 3767\u001b[0;31m             \u001b[0mindexer\u001b[0m \u001b[0;34m=\u001b[0m \u001b[0mself\u001b[0m\u001b[0;34m.\u001b[0m\u001b[0mcolumns\u001b[0m\u001b[0;34m.\u001b[0m\u001b[0m_get_indexer_strict\u001b[0m\u001b[0;34m(\u001b[0m\u001b[0mkey\u001b[0m\u001b[0;34m,\u001b[0m \u001b[0;34m\"columns\"\u001b[0m\u001b[0;34m)\u001b[0m\u001b[0;34m[\u001b[0m\u001b[0;36m1\u001b[0m\u001b[0;34m]\u001b[0m\u001b[0;34m\u001b[0m\u001b[0;34m\u001b[0m\u001b[0m\n\u001b[0m\u001b[1;32m   3768\u001b[0m \u001b[0;34m\u001b[0m\u001b[0m\n\u001b[1;32m   3769\u001b[0m         \u001b[0;31m# take() does not accept boolean indexers\u001b[0m\u001b[0;34m\u001b[0m\u001b[0;34m\u001b[0m\u001b[0;34m\u001b[0m\u001b[0m\n",
      "\u001b[0;32m~/opt/anaconda3/lib/python3.8/site-packages/pandas/core/indexes/base.py\u001b[0m in \u001b[0;36m_get_indexer_strict\u001b[0;34m(self, key, axis_name)\u001b[0m\n\u001b[1;32m   5875\u001b[0m             \u001b[0mkeyarr\u001b[0m\u001b[0;34m,\u001b[0m \u001b[0mindexer\u001b[0m\u001b[0;34m,\u001b[0m \u001b[0mnew_indexer\u001b[0m \u001b[0;34m=\u001b[0m \u001b[0mself\u001b[0m\u001b[0;34m.\u001b[0m\u001b[0m_reindex_non_unique\u001b[0m\u001b[0;34m(\u001b[0m\u001b[0mkeyarr\u001b[0m\u001b[0;34m)\u001b[0m\u001b[0;34m\u001b[0m\u001b[0;34m\u001b[0m\u001b[0m\n\u001b[1;32m   5876\u001b[0m \u001b[0;34m\u001b[0m\u001b[0m\n\u001b[0;32m-> 5877\u001b[0;31m         \u001b[0mself\u001b[0m\u001b[0;34m.\u001b[0m\u001b[0m_raise_if_missing\u001b[0m\u001b[0;34m(\u001b[0m\u001b[0mkeyarr\u001b[0m\u001b[0;34m,\u001b[0m \u001b[0mindexer\u001b[0m\u001b[0;34m,\u001b[0m \u001b[0maxis_name\u001b[0m\u001b[0;34m)\u001b[0m\u001b[0;34m\u001b[0m\u001b[0;34m\u001b[0m\u001b[0m\n\u001b[0m\u001b[1;32m   5878\u001b[0m \u001b[0;34m\u001b[0m\u001b[0m\n\u001b[1;32m   5879\u001b[0m         \u001b[0mkeyarr\u001b[0m \u001b[0;34m=\u001b[0m \u001b[0mself\u001b[0m\u001b[0;34m.\u001b[0m\u001b[0mtake\u001b[0m\u001b[0;34m(\u001b[0m\u001b[0mindexer\u001b[0m\u001b[0;34m)\u001b[0m\u001b[0;34m\u001b[0m\u001b[0;34m\u001b[0m\u001b[0m\n",
      "\u001b[0;32m~/opt/anaconda3/lib/python3.8/site-packages/pandas/core/indexes/base.py\u001b[0m in \u001b[0;36m_raise_if_missing\u001b[0;34m(self, key, indexer, axis_name)\u001b[0m\n\u001b[1;32m   5936\u001b[0m                 \u001b[0;32mif\u001b[0m \u001b[0muse_interval_msg\u001b[0m\u001b[0;34m:\u001b[0m\u001b[0;34m\u001b[0m\u001b[0;34m\u001b[0m\u001b[0m\n\u001b[1;32m   5937\u001b[0m                     \u001b[0mkey\u001b[0m \u001b[0;34m=\u001b[0m \u001b[0mlist\u001b[0m\u001b[0;34m(\u001b[0m\u001b[0mkey\u001b[0m\u001b[0;34m)\u001b[0m\u001b[0;34m\u001b[0m\u001b[0;34m\u001b[0m\u001b[0m\n\u001b[0;32m-> 5938\u001b[0;31m                 \u001b[0;32mraise\u001b[0m \u001b[0mKeyError\u001b[0m\u001b[0;34m(\u001b[0m\u001b[0;34mf\"None of [{key}] are in the [{axis_name}]\"\u001b[0m\u001b[0;34m)\u001b[0m\u001b[0;34m\u001b[0m\u001b[0;34m\u001b[0m\u001b[0m\n\u001b[0m\u001b[1;32m   5939\u001b[0m \u001b[0;34m\u001b[0m\u001b[0m\n\u001b[1;32m   5940\u001b[0m             \u001b[0mnot_found\u001b[0m \u001b[0;34m=\u001b[0m \u001b[0mlist\u001b[0m\u001b[0;34m(\u001b[0m\u001b[0mensure_index\u001b[0m\u001b[0;34m(\u001b[0m\u001b[0mkey\u001b[0m\u001b[0;34m)\u001b[0m\u001b[0;34m[\u001b[0m\u001b[0mmissing_mask\u001b[0m\u001b[0;34m.\u001b[0m\u001b[0mnonzero\u001b[0m\u001b[0;34m(\u001b[0m\u001b[0;34m)\u001b[0m\u001b[0;34m[\u001b[0m\u001b[0;36m0\u001b[0m\u001b[0;34m]\u001b[0m\u001b[0;34m]\u001b[0m\u001b[0;34m.\u001b[0m\u001b[0munique\u001b[0m\u001b[0;34m(\u001b[0m\u001b[0;34m)\u001b[0m\u001b[0;34m)\u001b[0m\u001b[0;34m\u001b[0m\u001b[0;34m\u001b[0m\u001b[0m\n",
      "\u001b[0;31mKeyError\u001b[0m: \"None of [Index([1, 2], dtype='int64')] are in the [columns]\""
     ]
    }
   ],
   "source": [
    "all_data.iloc[1,2]\n"
   ]
  },
  {
   "cell_type": "code",
   "execution_count": 49,
   "id": "78415e21",
   "metadata": {},
   "outputs": [
    {
     "ename": "AttributeError",
     "evalue": "'Ticker' object has no attribute 'T'",
     "output_type": "error",
     "traceback": [
      "\u001b[0;31m---------------------------------------------------------------------------\u001b[0m",
      "\u001b[0;31mAttributeError\u001b[0m                            Traceback (most recent call last)",
      "\u001b[0;32m<ipython-input-49-0adbb8bb8488>\u001b[0m in \u001b[0;36m<module>\u001b[0;34m\u001b[0m\n\u001b[0;32m----> 1\u001b[0;31m \u001b[0mgoldman\u001b[0m\u001b[0;34m.\u001b[0m\u001b[0mT\u001b[0m\u001b[0;34m.\u001b[0m\u001b[0mincome_stmt\u001b[0m\u001b[0;34m\u001b[0m\u001b[0;34m\u001b[0m\u001b[0m\n\u001b[0m",
      "\u001b[0;31mAttributeError\u001b[0m: 'Ticker' object has no attribute 'T'"
     ]
    }
   ],
   "source": []
  },
  {
   "cell_type": "code",
   "execution_count": 151,
   "id": "c08e90b5",
   "metadata": {},
   "outputs": [
    {
     "data": {
      "text/plain": [
       "Stock Splits\n",
       "0.0    252\n",
       "Name: count, dtype: int64"
      ]
     },
     "execution_count": 151,
     "metadata": {},
     "output_type": "execute_result"
    }
   ],
   "source": [
    "a[\"Stock Splits\"].value_counts()"
   ]
  },
  {
   "cell_type": "code",
   "execution_count": 161,
   "id": "23253b11",
   "metadata": {},
   "outputs": [
    {
     "data": {
      "text/plain": [
       "16.355072"
      ]
     },
     "execution_count": 161,
     "metadata": {},
     "output_type": "execute_result"
    }
   ],
   "source": [
    "bank_of_america.info[\"trailingPE\"]"
   ]
  },
  {
   "cell_type": "code",
   "execution_count": null,
   "id": "ceb6903b",
   "metadata": {},
   "outputs": [],
   "source": []
  },
  {
   "cell_type": "code",
   "execution_count": 162,
   "id": "481ddf14",
   "metadata": {},
   "outputs": [
    {
     "data": {
      "text/plain": [
       "12.176239"
      ]
     },
     "execution_count": 162,
     "metadata": {},
     "output_type": "execute_result"
    }
   ],
   "source": [
    "bank_of_america.info[\"forwardPE\"]"
   ]
  },
  {
   "cell_type": "code",
   "execution_count": null,
   "id": "060364c2",
   "metadata": {},
   "outputs": [],
   "source": []
  },
  {
   "cell_type": "code",
   "execution_count": null,
   "id": "4883e624",
   "metadata": {},
   "outputs": [],
   "source": []
  },
  {
   "cell_type": "code",
   "execution_count": 95,
   "id": "7f605333",
   "metadata": {},
   "outputs": [
    {
     "name": "stdout",
     "output_type": "stream",
     "text": [
      "The current price 71.65\n"
     ]
    }
   ],
   "source": [
    "# Get selected stock current price\n",
    "citi_price = citi.history(period ='1d')[\"Close\"]\n",
    "star"
   ]
  },
  {
   "cell_type": "code",
   "execution_count": null,
   "id": "ccda36a1",
   "metadata": {},
   "outputs": [],
   "source": []
  },
  {
   "cell_type": "code",
   "execution_count": 22,
   "id": "4738ff40",
   "metadata": {
    "scrolled": false
   },
   "outputs": [],
   "source": [
    "inc_citi = citi.income_stmt\n",
    "inc_state = state.income_stmt\n",
    "inc_bny = bny.income_stmt\n",
    "inc_ubs = ubs.income_stmt\n",
    "\n",
    "citi_eps = inc_citi.loc[\"Diluted EPS\"]\n",
    "state_eps = inc_state.loc[\"Diluted EPS\"]\n",
    "bny_eps = inc_bny.loc[\"Diluted EPS\"]\n",
    "ubs_eps = inc_ubs.loc[\"Diluted EPS\"]\n",
    "\n",
    "citi_v = list(citi_eps)\n",
    "state_v = list(state_eps)\n",
    "bny_v = list(bny_eps)\n",
    "ubs_v = list(ubs_eps)"
   ]
  },
  {
   "cell_type": "code",
   "execution_count": 25,
   "id": "aa63fd7c",
   "metadata": {
    "scrolled": true
   },
   "outputs": [
    {
     "data": {
      "text/plain": [
       "2023-12-31    8.45\n",
       "2022-12-31    2.25\n",
       "2021-12-31    2.06\n",
       "2020-12-31    1.79\n",
       "Name: Diluted EPS, dtype: object"
      ]
     },
     "execution_count": 25,
     "metadata": {},
     "output_type": "execute_result"
    }
   ],
   "source": [
    "# Print the EPS of citi bank\n",
    "ubs_eps"
   ]
  },
  {
   "cell_type": "code",
   "execution_count": 6,
   "id": "aaf651a9",
   "metadata": {
    "scrolled": true
   },
   "outputs": [],
   "source": [
    "#  function for removing the last element in the EPS list \n",
    "def rem_last(list):\n",
    "    list.pop()"
   ]
  },
  {
   "cell_type": "code",
   "execution_count": 7,
   "id": "1f598fcc",
   "metadata": {},
   "outputs": [],
   "source": [
    "rem_last(citi_v)\n",
    "rem_last(state_v)\n",
    "rem_last(bny_v)\n",
    "rem_last(ubs_v)"
   ]
  },
  {
   "cell_type": "code",
   "execution_count": 8,
   "id": "dd583160",
   "metadata": {},
   "outputs": [],
   "source": [
    "Years= [2023,2022,2021,2020]"
   ]
  },
  {
   "cell_type": "code",
   "execution_count": 9,
   "id": "012c1b10",
   "metadata": {},
   "outputs": [],
   "source": [
    "eps_dict = {\"Years\": Years,\n",
    "    \"Citi Group\" :citi_v,\n",
    "            \"State Street\":state_v,\n",
    "            \"BNY Mellon\": bny_v,\n",
    "            \"UBS\": ubs_v}"
   ]
  },
  {
   "cell_type": "code",
   "execution_count": 10,
   "id": "b0aafa96",
   "metadata": {},
   "outputs": [
    {
     "name": "stdout",
     "output_type": "stream",
     "text": [
      "{'Years': [2023, 2022, 2021, 2020], 'Citi Group': [4.04, 7.0, 10.14, 4.87], 'State Street': [5.58, 7.19, 7.19, 6.32], 'BNY Mellon': [4.0, 2.9, 4.14, 3.83], 'UBS': [8.45, 2.25, 2.06, 1.79]}\n"
     ]
    }
   ],
   "source": [
    "print(eps_dict)"
   ]
  },
  {
   "cell_type": "code",
   "execution_count": 11,
   "id": "b16e6eb0",
   "metadata": {},
   "outputs": [],
   "source": [
    "df = pd.DataFrame(eps_dict)"
   ]
  },
  {
   "cell_type": "code",
   "execution_count": 12,
   "id": "896d70d3",
   "metadata": {},
   "outputs": [
    {
     "name": "stdout",
     "output_type": "stream",
     "text": [
      "   Years  Citi Group  State Street  BNY Mellon   UBS\n",
      "0   2023        4.04          5.58        4.00  8.45\n",
      "1   2022        7.00          7.19        2.90  2.25\n",
      "2   2021       10.14          7.19        4.14  2.06\n",
      "3   2020        4.87          6.32        3.83  1.79\n"
     ]
    }
   ],
   "source": [
    "print(df)"
   ]
  },
  {
   "cell_type": "code",
   "execution_count": 41,
   "id": "8ce74cbd",
   "metadata": {},
   "outputs": [],
   "source": [
    "# Using income statement elements such as : Tax Provision, Selling And Marketing; General And Administrative Espense \n",
    "# to identify the correlation "
   ]
  },
  {
   "cell_type": "markdown",
   "id": "99178a9d",
   "metadata": {},
   "source": [
    "# Tax Provision, Selling And Marketing; General And Administrative Espense factors as Correlation Coefficient with EPS from the Income Statement"
   ]
  },
  {
   "cell_type": "markdown",
   "id": "07acf23f",
   "metadata": {},
   "source": [
    "## Citi Group "
   ]
  },
  {
   "cell_type": "code",
   "execution_count": 13,
   "id": "963ea4f1",
   "metadata": {},
   "outputs": [],
   "source": [
    "# Extracting chosen factors \n",
    "citi_tax = inc_citi.loc[\"Tax Provision\"]\n",
    "citi_selling_marketing = inc_citi.loc[\"Selling And Marketing Expense\"]\n",
    "citi_gen_admin = inc_citi.loc[\"General And Administrative Expense\"]\n",
    "\n",
    "citi_dict ={\"Tax Provision\" : citi_tax,\n",
    "            \"Selling And Marketing Expense\": citi_selling_marketing,\n",
    "            \"General And Administrative Expense\": citi_gen_admin\n",
    "}\n",
    "df_citi = pd.DataFrame(citi_dict)\n"
   ]
  },
  {
   "cell_type": "code",
   "execution_count": 14,
   "id": "3c6ec35e",
   "metadata": {},
   "outputs": [
    {
     "data": {
      "text/html": [
       "<div>\n",
       "<style scoped>\n",
       "    .dataframe tbody tr th:only-of-type {\n",
       "        vertical-align: middle;\n",
       "    }\n",
       "\n",
       "    .dataframe tbody tr th {\n",
       "        vertical-align: top;\n",
       "    }\n",
       "\n",
       "    .dataframe thead th {\n",
       "        text-align: right;\n",
       "    }\n",
       "</style>\n",
       "<table border=\"1\" class=\"dataframe\">\n",
       "  <thead>\n",
       "    <tr style=\"text-align: right;\">\n",
       "      <th></th>\n",
       "      <th>Tax Provision</th>\n",
       "      <th>Selling And Marketing Expense</th>\n",
       "      <th>General And Administrative Expense</th>\n",
       "    </tr>\n",
       "  </thead>\n",
       "  <tbody>\n",
       "    <tr>\n",
       "      <th>2023-12-31</th>\n",
       "      <td>3528000000.0</td>\n",
       "      <td>1393000000.0</td>\n",
       "      <td>29319000000.0</td>\n",
       "    </tr>\n",
       "    <tr>\n",
       "      <th>2022-12-31</th>\n",
       "      <td>3642000000.0</td>\n",
       "      <td>1556000000.0</td>\n",
       "      <td>26749000000.0</td>\n",
       "    </tr>\n",
       "    <tr>\n",
       "      <th>2021-12-31</th>\n",
       "      <td>5451000000.0</td>\n",
       "      <td>1490000000.0</td>\n",
       "      <td>25250000000.0</td>\n",
       "    </tr>\n",
       "    <tr>\n",
       "      <th>2020-12-31</th>\n",
       "      <td>2525000000.0</td>\n",
       "      <td>1217000000.0</td>\n",
       "      <td>22327000000.0</td>\n",
       "    </tr>\n",
       "    <tr>\n",
       "      <th>2019-12-31</th>\n",
       "      <td>NaN</td>\n",
       "      <td>NaN</td>\n",
       "      <td>NaN</td>\n",
       "    </tr>\n",
       "  </tbody>\n",
       "</table>\n",
       "</div>"
      ],
      "text/plain": [
       "           Tax Provision Selling And Marketing Expense  \\\n",
       "2023-12-31  3528000000.0                  1393000000.0   \n",
       "2022-12-31  3642000000.0                  1556000000.0   \n",
       "2021-12-31  5451000000.0                  1490000000.0   \n",
       "2020-12-31  2525000000.0                  1217000000.0   \n",
       "2019-12-31           NaN                           NaN   \n",
       "\n",
       "           General And Administrative Expense  \n",
       "2023-12-31                      29319000000.0  \n",
       "2022-12-31                      26749000000.0  \n",
       "2021-12-31                      25250000000.0  \n",
       "2020-12-31                      22327000000.0  \n",
       "2019-12-31                                NaN  "
      ]
     },
     "execution_count": 14,
     "metadata": {},
     "output_type": "execute_result"
    }
   ],
   "source": [
    "df_citi"
   ]
  },
  {
   "cell_type": "code",
   "execution_count": 15,
   "id": "28d16bb2",
   "metadata": {},
   "outputs": [],
   "source": [
    "# Drop the last row\n",
    "df_citi.drop(df_citi.tail(1).index,inplace=True)"
   ]
  },
  {
   "cell_type": "code",
   "execution_count": 16,
   "id": "c24fc4bc",
   "metadata": {},
   "outputs": [
    {
     "name": "stdout",
     "output_type": "stream",
     "text": [
      "Pearson correlation coefficient: -0.1899441505103251\n",
      "Spearman correlation coefficient: -0.39999999999999997\n",
      "Kendall correlation coefficient: -0.3333333333333334\n"
     ]
    }
   ],
   "source": [
    "x = df[\"Citi Group\"]\n",
    "y = df_citi[\"General And Administrative Expense\"]\n",
    "pearson_coef, _ = pearsonr(x, y)\n",
    "print(\"Pearson correlation coefficient:\", pearson_coef)\n",
    "\n",
    "spearman_coef, _ = spearmanr(x, y)\n",
    "print(\"Spearman correlation coefficient:\", spearman_coef)\n",
    "\n",
    "kendall_coef, _ = kendalltau(x, y)\n",
    "print(\"Kendall correlation coefficient:\", kendall_coef)"
   ]
  },
  {
   "cell_type": "code",
   "execution_count": 17,
   "id": "1ea526ff",
   "metadata": {},
   "outputs": [
    {
     "name": "stdout",
     "output_type": "stream",
     "text": [
      "Pearson correlation coefficient: 0.873055098363501\n",
      "Spearman correlation coefficient: 0.7999999999999999\n",
      "Kendall correlation coefficient: 0.6666666666666669\n"
     ]
    }
   ],
   "source": [
    "x = df[\"Citi Group\"]\n",
    "y = df_citi[\"Tax Provision\"]\n",
    "pearson_coef, _ = pearsonr(x, y)\n",
    "print(\"Pearson correlation coefficient:\", pearson_coef)\n",
    "\n",
    "spearman_coef, _ = spearmanr(x, y)\n",
    "print(\"Spearman correlation coefficient:\", spearman_coef)\n",
    "\n",
    "kendall_coef, _ = kendalltau(x, y)\n",
    "print(\"Kendall correlation coefficient:\", kendall_coef)"
   ]
  },
  {
   "cell_type": "markdown",
   "id": "7e64d06f",
   "metadata": {},
   "source": [
    "When we look at the Pearson correlation coefficient, we retrieved that the value 0.598 with the identification that there is moderate correlation between Earning per share and Selling and Marketing Expense. We can see that, there is acutually weak negativecorrelation between Earning Per Share and General And Administrative Expense. However, when we look at the Tax Provision part, we can see that there is strong correlation between the value of Tax Provision and Earning Per Share "
   ]
  },
  {
   "cell_type": "markdown",
   "id": "576b9827",
   "metadata": {},
   "source": [
    "## State Street"
   ]
  },
  {
   "cell_type": "code",
   "execution_count": 18,
   "id": "4f74238b",
   "metadata": {},
   "outputs": [],
   "source": [
    "\n",
    "state_tax = inc_state.loc[\"Tax Provision\"]\n",
    "state_selling_marketing = inc_state.loc[\"Selling And Marketing Expense\"]\n",
    "state_gen_admin = inc_state.loc[\"General And Administrative Expense\"]\n",
    "\n",
    "state_dict ={\"Tax Provision\" : state_tax,\n",
    "            \"Selling And Marketing Expense\": state_selling_marketing,\n",
    "            \"General And Administrative Expense\": state_gen_admin\n",
    "}\n",
    "df_state = pd.DataFrame(state_dict)"
   ]
  },
  {
   "cell_type": "code",
   "execution_count": 19,
   "id": "6a9f5798",
   "metadata": {},
   "outputs": [
    {
     "data": {
      "text/html": [
       "<div>\n",
       "<style scoped>\n",
       "    .dataframe tbody tr th:only-of-type {\n",
       "        vertical-align: middle;\n",
       "    }\n",
       "\n",
       "    .dataframe tbody tr th {\n",
       "        vertical-align: top;\n",
       "    }\n",
       "\n",
       "    .dataframe thead th {\n",
       "        text-align: right;\n",
       "    }\n",
       "</style>\n",
       "<table border=\"1\" class=\"dataframe\">\n",
       "  <thead>\n",
       "    <tr style=\"text-align: right;\">\n",
       "      <th></th>\n",
       "      <th>Tax Provision</th>\n",
       "      <th>Selling And Marketing Expense</th>\n",
       "      <th>General And Administrative Expense</th>\n",
       "    </tr>\n",
       "  </thead>\n",
       "  <tbody>\n",
       "    <tr>\n",
       "      <th>2023-12-31</th>\n",
       "      <td>372000000.0</td>\n",
       "      <td>142000000.0</td>\n",
       "      <td>4562000000.0</td>\n",
       "    </tr>\n",
       "    <tr>\n",
       "      <th>2022-12-31</th>\n",
       "      <td>553000000.0</td>\n",
       "      <td>99000000.0</td>\n",
       "      <td>4378000000.0</td>\n",
       "    </tr>\n",
       "    <tr>\n",
       "      <th>2021-12-31</th>\n",
       "      <td>478000000.0</td>\n",
       "      <td>73000000.0</td>\n",
       "      <td>4586000000.0</td>\n",
       "    </tr>\n",
       "    <tr>\n",
       "      <th>2020-12-31</th>\n",
       "      <td>479000000.0</td>\n",
       "      <td>77000000.0</td>\n",
       "      <td>4368000000.0</td>\n",
       "    </tr>\n",
       "    <tr>\n",
       "      <th>2019-12-31</th>\n",
       "      <td>NaN</td>\n",
       "      <td>NaN</td>\n",
       "      <td>NaN</td>\n",
       "    </tr>\n",
       "  </tbody>\n",
       "</table>\n",
       "</div>"
      ],
      "text/plain": [
       "           Tax Provision Selling And Marketing Expense  \\\n",
       "2023-12-31   372000000.0                   142000000.0   \n",
       "2022-12-31   553000000.0                    99000000.0   \n",
       "2021-12-31   478000000.0                    73000000.0   \n",
       "2020-12-31   479000000.0                    77000000.0   \n",
       "2019-12-31           NaN                           NaN   \n",
       "\n",
       "           General And Administrative Expense  \n",
       "2023-12-31                       4562000000.0  \n",
       "2022-12-31                       4378000000.0  \n",
       "2021-12-31                       4586000000.0  \n",
       "2020-12-31                       4368000000.0  \n",
       "2019-12-31                                NaN  "
      ]
     },
     "execution_count": 19,
     "metadata": {},
     "output_type": "execute_result"
    }
   ],
   "source": [
    "df_state"
   ]
  },
  {
   "cell_type": "code",
   "execution_count": 56,
   "id": "7f095f7b",
   "metadata": {},
   "outputs": [],
   "source": [
    "# Drop the last row\n",
    "df_state.drop(df_state.tail(1).index,inplace=True)"
   ]
  },
  {
   "cell_type": "code",
   "execution_count": 57,
   "id": "c8b16506",
   "metadata": {},
   "outputs": [
    {
     "name": "stdout",
     "output_type": "stream",
     "text": [
      "Pearson correlation coefficient: -0.7212124593500673\n",
      "Spearman correlation coefficient: -0.632455532033676\n",
      "Kendall correlation coefficient: -0.5477225575051662\n"
     ]
    }
   ],
   "source": [
    "x = df[\"State Street\"]\n",
    "y = df_state[\"Selling And Marketing Expense\"]\n",
    "pearson_coef, _ = pearsonr(x, y)\n",
    "print(\"Pearson correlation coefficient:\", pearson_coef)\n",
    "\n",
    "spearman_coef, _ = spearmanr(x, y)\n",
    "print(\"Spearman correlation coefficient:\", spearman_coef)\n",
    "\n",
    "kendall_coef, _ = kendalltau(x, y)\n",
    "print(\"Kendall correlation coefficient:\", kendall_coef)"
   ]
  },
  {
   "cell_type": "code",
   "execution_count": 131,
   "id": "98f88519",
   "metadata": {},
   "outputs": [
    {
     "name": "stdout",
     "output_type": "stream",
     "text": [
      "Pearson correlation coefficient: -0.18663607623338274\n",
      "Spearman correlation coefficient: 0.21081851067789195\n",
      "Kendall correlation coefficient: 0.18257418583505539\n"
     ]
    }
   ],
   "source": [
    "x = df[\"State Street\"]\n",
    "y = df_state[\"General And Administrative Expense\"]\n",
    "pearson_coef, _ = pearsonr(x, y)\n",
    "print(\"Pearson correlation coefficient:\", pearson_coef)\n",
    "\n",
    "spearman_coef, _ = spearmanr(x, y)\n",
    "print(\"Spearman correlation coefficient:\", spearman_coef)\n",
    "\n",
    "kendall_coef, _ = kendalltau(x, y)\n",
    "print(\"Kendall correlation coefficient:\", kendall_coef)"
   ]
  },
  {
   "cell_type": "code",
   "execution_count": 132,
   "id": "9d725141",
   "metadata": {},
   "outputs": [
    {
     "name": "stdout",
     "output_type": "stream",
     "text": [
      "Pearson correlation coefficient: 0.8709202268580564\n",
      "Spearman correlation coefficient: 0.632455532033676\n",
      "Kendall correlation coefficient: 0.5477225575051662\n"
     ]
    }
   ],
   "source": [
    "x = df[\"State Street\"]\n",
    "y = df_state[\"Tax Provision\"]\n",
    "pearson_coef, _ = pearsonr(x, y)\n",
    "print(\"Pearson correlation coefficient:\", pearson_coef)\n",
    "\n",
    "spearman_coef, _ = spearmanr(x, y)\n",
    "print(\"Spearman correlation coefficient:\", spearman_coef)\n",
    "\n",
    "kendall_coef, _ = kendalltau(x, y)\n",
    "print(\"Kendall correlation coefficient:\", kendall_coef)"
   ]
  },
  {
   "cell_type": "markdown",
   "id": "410d361e",
   "metadata": {},
   "source": [
    "When we look at the Pearson correlation coefficient between Earning per share and Selling and Marketing Expense. Similarly, we can see that, there is acutually no correlation between Earning Per Share and General And Administrative Expense. However, when we look at the Tax Provision part, we can see that there is strong correlation between the value of Tax Provision and Earning Per Share. "
   ]
  },
  {
   "cell_type": "code",
   "execution_count": 96,
   "id": "3d44220c",
   "metadata": {},
   "outputs": [
    {
     "data": {
      "text/html": [
       "<div>\n",
       "<style scoped>\n",
       "    .dataframe tbody tr th:only-of-type {\n",
       "        vertical-align: middle;\n",
       "    }\n",
       "\n",
       "    .dataframe tbody tr th {\n",
       "        vertical-align: top;\n",
       "    }\n",
       "\n",
       "    .dataframe thead th {\n",
       "        text-align: right;\n",
       "    }\n",
       "</style>\n",
       "<table border=\"1\" class=\"dataframe\">\n",
       "  <thead>\n",
       "    <tr style=\"text-align: right;\">\n",
       "      <th></th>\n",
       "      <th>Tax Provision</th>\n",
       "      <th>Selling And Marketing Expense</th>\n",
       "      <th>General And Administrative Expense</th>\n",
       "    </tr>\n",
       "  </thead>\n",
       "  <tbody>\n",
       "    <tr>\n",
       "      <th>2023-12-31</th>\n",
       "      <td>372000000.0</td>\n",
       "      <td>142000000.0</td>\n",
       "      <td>4562000000.0</td>\n",
       "    </tr>\n",
       "    <tr>\n",
       "      <th>2022-12-31</th>\n",
       "      <td>553000000.0</td>\n",
       "      <td>99000000.0</td>\n",
       "      <td>4378000000.0</td>\n",
       "    </tr>\n",
       "    <tr>\n",
       "      <th>2021-12-31</th>\n",
       "      <td>478000000.0</td>\n",
       "      <td>73000000.0</td>\n",
       "      <td>4586000000.0</td>\n",
       "    </tr>\n",
       "    <tr>\n",
       "      <th>2020-12-31</th>\n",
       "      <td>479000000.0</td>\n",
       "      <td>77000000.0</td>\n",
       "      <td>4368000000.0</td>\n",
       "    </tr>\n",
       "  </tbody>\n",
       "</table>\n",
       "</div>"
      ],
      "text/plain": [
       "           Tax Provision Selling And Marketing Expense  \\\n",
       "2023-12-31   372000000.0                   142000000.0   \n",
       "2022-12-31   553000000.0                    99000000.0   \n",
       "2021-12-31   478000000.0                    73000000.0   \n",
       "2020-12-31   479000000.0                    77000000.0   \n",
       "\n",
       "           General And Administrative Expense  \n",
       "2023-12-31                       4562000000.0  \n",
       "2022-12-31                       4378000000.0  \n",
       "2021-12-31                       4586000000.0  \n",
       "2020-12-31                       4368000000.0  "
      ]
     },
     "execution_count": 96,
     "metadata": {},
     "output_type": "execute_result"
    }
   ],
   "source": [
    "df_state"
   ]
  },
  {
   "cell_type": "markdown",
   "id": "2bed7af0",
   "metadata": {},
   "source": [
    "## BNY Mellon"
   ]
  },
  {
   "cell_type": "code",
   "execution_count": 59,
   "id": "3fb44c65",
   "metadata": {},
   "outputs": [],
   "source": [
    "bny_tax = inc_bny.loc[\"Tax Provision\"]\n",
    "bny_gen_admin = inc_bny.loc[\"General And Administrative Expense\"]\n",
    "\n",
    "bny_dict ={\"Tax Provision\" : bny_tax,\n",
    "            \"General And Administrative Expense\": bny_gen_admin}\n",
    "df_bny = pd.DataFrame(bny_dict)"
   ]
  },
  {
   "cell_type": "code",
   "execution_count": 60,
   "id": "0108edfa",
   "metadata": {},
   "outputs": [
    {
     "data": {
      "text/html": [
       "<div>\n",
       "<style scoped>\n",
       "    .dataframe tbody tr th:only-of-type {\n",
       "        vertical-align: middle;\n",
       "    }\n",
       "\n",
       "    .dataframe tbody tr th {\n",
       "        vertical-align: top;\n",
       "    }\n",
       "\n",
       "    .dataframe thead th {\n",
       "        text-align: right;\n",
       "    }\n",
       "</style>\n",
       "<table border=\"1\" class=\"dataframe\">\n",
       "  <thead>\n",
       "    <tr style=\"text-align: right;\">\n",
       "      <th></th>\n",
       "      <th>Tax Provision</th>\n",
       "      <th>General And Administrative Expense</th>\n",
       "    </tr>\n",
       "  </thead>\n",
       "  <tbody>\n",
       "    <tr>\n",
       "      <th>2023-12-31</th>\n",
       "      <td>800000000.0</td>\n",
       "      <td>6828000000.0</td>\n",
       "    </tr>\n",
       "    <tr>\n",
       "      <th>2022-12-31</th>\n",
       "      <td>768000000.0</td>\n",
       "      <td>6585000000.0</td>\n",
       "    </tr>\n",
       "    <tr>\n",
       "      <th>2021-12-31</th>\n",
       "      <td>877000000.0</td>\n",
       "      <td>6337000000.0</td>\n",
       "    </tr>\n",
       "    <tr>\n",
       "      <th>2020-12-31</th>\n",
       "      <td>842000000.0</td>\n",
       "      <td>5966000000.0</td>\n",
       "    </tr>\n",
       "    <tr>\n",
       "      <th>2019-12-31</th>\n",
       "      <td>NaN</td>\n",
       "      <td>NaN</td>\n",
       "    </tr>\n",
       "  </tbody>\n",
       "</table>\n",
       "</div>"
      ],
      "text/plain": [
       "           Tax Provision General And Administrative Expense\n",
       "2023-12-31   800000000.0                       6828000000.0\n",
       "2022-12-31   768000000.0                       6585000000.0\n",
       "2021-12-31   877000000.0                       6337000000.0\n",
       "2020-12-31   842000000.0                       5966000000.0\n",
       "2019-12-31           NaN                                NaN"
      ]
     },
     "execution_count": 60,
     "metadata": {},
     "output_type": "execute_result"
    }
   ],
   "source": [
    "df_bny"
   ]
  },
  {
   "cell_type": "code",
   "execution_count": 63,
   "id": "3a31c3ab",
   "metadata": {},
   "outputs": [],
   "source": [
    "# Drop the last row\n",
    "df_bny.drop(df_bny.tail(1).index,inplace=True)"
   ]
  },
  {
   "cell_type": "code",
   "execution_count": 64,
   "id": "dbf9cb18",
   "metadata": {},
   "outputs": [
    {
     "data": {
      "text/html": [
       "<div>\n",
       "<style scoped>\n",
       "    .dataframe tbody tr th:only-of-type {\n",
       "        vertical-align: middle;\n",
       "    }\n",
       "\n",
       "    .dataframe tbody tr th {\n",
       "        vertical-align: top;\n",
       "    }\n",
       "\n",
       "    .dataframe thead th {\n",
       "        text-align: right;\n",
       "    }\n",
       "</style>\n",
       "<table border=\"1\" class=\"dataframe\">\n",
       "  <thead>\n",
       "    <tr style=\"text-align: right;\">\n",
       "      <th></th>\n",
       "      <th>Tax Provision</th>\n",
       "      <th>General And Administrative Expense</th>\n",
       "    </tr>\n",
       "  </thead>\n",
       "  <tbody>\n",
       "    <tr>\n",
       "      <th>2023-12-31</th>\n",
       "      <td>800000000.0</td>\n",
       "      <td>6828000000.0</td>\n",
       "    </tr>\n",
       "    <tr>\n",
       "      <th>2022-12-31</th>\n",
       "      <td>768000000.0</td>\n",
       "      <td>6585000000.0</td>\n",
       "    </tr>\n",
       "    <tr>\n",
       "      <th>2021-12-31</th>\n",
       "      <td>877000000.0</td>\n",
       "      <td>6337000000.0</td>\n",
       "    </tr>\n",
       "    <tr>\n",
       "      <th>2020-12-31</th>\n",
       "      <td>842000000.0</td>\n",
       "      <td>5966000000.0</td>\n",
       "    </tr>\n",
       "  </tbody>\n",
       "</table>\n",
       "</div>"
      ],
      "text/plain": [
       "           Tax Provision General And Administrative Expense\n",
       "2023-12-31   800000000.0                       6828000000.0\n",
       "2022-12-31   768000000.0                       6585000000.0\n",
       "2021-12-31   877000000.0                       6337000000.0\n",
       "2020-12-31   842000000.0                       5966000000.0"
      ]
     },
     "execution_count": 64,
     "metadata": {},
     "output_type": "execute_result"
    }
   ],
   "source": [
    "df_bny"
   ]
  },
  {
   "cell_type": "code",
   "execution_count": 136,
   "id": "c93968ce",
   "metadata": {},
   "outputs": [
    {
     "name": "stdout",
     "output_type": "stream",
     "text": [
      "Pearson correlation coefficient: 0.8555371012512922\n",
      "Spearman correlation coefficient: 0.7999999999999999\n",
      "Kendall correlation coefficient: 0.6666666666666669\n"
     ]
    }
   ],
   "source": [
    "x = df[\"BNY Mellon\"]\n",
    "y = df_bny[\"Tax Provision\"]\n",
    "pearson_coef, _ = pearsonr(x, y)\n",
    "print(\"Pearson correlation coefficient:\", pearson_coef)\n",
    "\n",
    "spearman_coef, _ = spearmanr(x, y)\n",
    "print(\"Spearman correlation coefficient:\", spearman_coef)\n",
    "\n",
    "kendall_coef, _ = kendalltau(x, y)\n",
    "print(\"Kendall correlation coefficient:\", kendall_coef)"
   ]
  },
  {
   "cell_type": "code",
   "execution_count": 138,
   "id": "49fb5ebd",
   "metadata": {},
   "outputs": [
    {
     "name": "stdout",
     "output_type": "stream",
     "text": [
      "Pearson correlation coefficient: -0.26383640688331556\n",
      "Spearman correlation coefficient: 0.0\n",
      "Kendall correlation coefficient: 0.0\n"
     ]
    }
   ],
   "source": [
    "x = df[\"BNY Mellon\"]\n",
    "y = df_bny[\"General And Administrative Expense\"]\n",
    "pearson_coef, _ = pearsonr(x, y)\n",
    "print(\"Pearson correlation coefficient:\", pearson_coef)\n",
    "\n",
    "spearman_coef, _ = spearmanr(x, y)\n",
    "print(\"Spearman correlation coefficient:\", spearman_coef)\n",
    "\n",
    "kendall_coef, _ = kendalltau(x, y)\n",
    "print(\"Kendall correlation coefficient:\", kendall_coef)"
   ]
  },
  {
   "cell_type": "markdown",
   "id": "a405a45f",
   "metadata": {},
   "source": [
    "## UBS"
   ]
  },
  {
   "cell_type": "code",
   "execution_count": 97,
   "id": "9ccdc381",
   "metadata": {},
   "outputs": [],
   "source": [
    "ubs_tax = inc_ubs.loc[\"Tax Provision\"]\n",
    "ubs_selling_marketing = inc_ubs.loc[\"Selling And Marketing Expense\"]\n",
    "ubs_gen_admin = inc_ubs.loc[\"General And Administrative Expense\"]\n",
    "\n",
    "ubs_dict ={\"Tax Provision\" : ubs_tax,\n",
    "            \"Selling And Marketing Expense\": ubs_selling_marketing,\n",
    "            \"General And Administrative Expense\": ubs_gen_admin\n",
    "}\n",
    "df_ubs = pd.DataFrame(ubs_dict)"
   ]
  },
  {
   "cell_type": "code",
   "execution_count": 98,
   "id": "6f6e8fe7",
   "metadata": {},
   "outputs": [
    {
     "data": {
      "text/html": [
       "<div>\n",
       "<style scoped>\n",
       "    .dataframe tbody tr th:only-of-type {\n",
       "        vertical-align: middle;\n",
       "    }\n",
       "\n",
       "    .dataframe tbody tr th {\n",
       "        vertical-align: top;\n",
       "    }\n",
       "\n",
       "    .dataframe thead th {\n",
       "        text-align: right;\n",
       "    }\n",
       "</style>\n",
       "<table border=\"1\" class=\"dataframe\">\n",
       "  <thead>\n",
       "    <tr style=\"text-align: right;\">\n",
       "      <th></th>\n",
       "      <th>Tax Provision</th>\n",
       "      <th>Selling And Marketing Expense</th>\n",
       "      <th>General And Administrative Expense</th>\n",
       "    </tr>\n",
       "  </thead>\n",
       "  <tbody>\n",
       "    <tr>\n",
       "      <th>2023-12-31</th>\n",
       "      <td>873000000.0</td>\n",
       "      <td>408000000.0</td>\n",
       "      <td>27189000000.0</td>\n",
       "    </tr>\n",
       "    <tr>\n",
       "      <th>2022-12-31</th>\n",
       "      <td>1942000000.0</td>\n",
       "      <td>265000000.0</td>\n",
       "      <td>21059000000.0</td>\n",
       "    </tr>\n",
       "    <tr>\n",
       "      <th>2021-12-31</th>\n",
       "      <td>1998000000.0</td>\n",
       "      <td>242000000.0</td>\n",
       "      <td>21612000000.0</td>\n",
       "    </tr>\n",
       "    <tr>\n",
       "      <th>2020-12-31</th>\n",
       "      <td>1583000000.0</td>\n",
       "      <td>217000000.0</td>\n",
       "      <td>20378000000.0</td>\n",
       "    </tr>\n",
       "    <tr>\n",
       "      <th>2019-12-31</th>\n",
       "      <td>NaN</td>\n",
       "      <td>NaN</td>\n",
       "      <td>NaN</td>\n",
       "    </tr>\n",
       "  </tbody>\n",
       "</table>\n",
       "</div>"
      ],
      "text/plain": [
       "           Tax Provision Selling And Marketing Expense  \\\n",
       "2023-12-31   873000000.0                   408000000.0   \n",
       "2022-12-31  1942000000.0                   265000000.0   \n",
       "2021-12-31  1998000000.0                   242000000.0   \n",
       "2020-12-31  1583000000.0                   217000000.0   \n",
       "2019-12-31           NaN                           NaN   \n",
       "\n",
       "           General And Administrative Expense  \n",
       "2023-12-31                      27189000000.0  \n",
       "2022-12-31                      21059000000.0  \n",
       "2021-12-31                      21612000000.0  \n",
       "2020-12-31                      20378000000.0  \n",
       "2019-12-31                                NaN  "
      ]
     },
     "execution_count": 98,
     "metadata": {},
     "output_type": "execute_result"
    }
   ],
   "source": [
    "df_ubs"
   ]
  },
  {
   "cell_type": "code",
   "execution_count": 99,
   "id": "4c6224d6",
   "metadata": {},
   "outputs": [],
   "source": [
    "df_ubs.drop(df_ubs.tail(1).index,inplace=True)"
   ]
  },
  {
   "cell_type": "code",
   "execution_count": 139,
   "id": "e4bd874a",
   "metadata": {},
   "outputs": [
    {
     "name": "stdout",
     "output_type": "stream",
     "text": [
      "Pearson correlation coefficient: 0.9911742372284684\n",
      "Spearman correlation coefficient: 0.7999999999999999\n",
      "Kendall correlation coefficient: 0.6666666666666669\n"
     ]
    }
   ],
   "source": [
    "x = df[\"UBS\"]\n",
    "y = df_ubs[\"General And Administrative Expense\"]\n",
    "pearson_coef, _ = pearsonr(x, y)\n",
    "print(\"Pearson correlation coefficient:\", pearson_coef)\n",
    "\n",
    "spearman_coef, _ = spearmanr(x, y)\n",
    "print(\"Spearman correlation coefficient:\", spearman_coef)\n",
    "\n",
    "kendall_coef, _ = kendalltau(x, y)\n",
    "print(\"Kendall correlation coefficient:\", kendall_coef)"
   ]
  },
  {
   "cell_type": "code",
   "execution_count": 140,
   "id": "964f7d63",
   "metadata": {},
   "outputs": [
    {
     "name": "stdout",
     "output_type": "stream",
     "text": [
      "Pearson correlation coefficient: 0.9851611178897732\n",
      "Spearman correlation coefficient: 1.0\n",
      "Kendall correlation coefficient: 1.0\n"
     ]
    }
   ],
   "source": [
    "x = df[\"UBS\"]\n",
    "y = df_ubs[\"Selling And Marketing Expense\"]\n",
    "pearson_coef, _ = pearsonr(x, y)\n",
    "print(\"Pearson correlation coefficient:\", pearson_coef)\n",
    "\n",
    "spearman_coef, _ = spearmanr(x, y)\n",
    "print(\"Spearman correlation coefficient:\", spearman_coef)\n",
    "\n",
    "kendall_coef, _ = kendalltau(x, y)\n",
    "print(\"Kendall correlation coefficient:\", kendall_coef)"
   ]
  },
  {
   "cell_type": "code",
   "execution_count": 141,
   "id": "8b67be3a",
   "metadata": {},
   "outputs": [
    {
     "name": "stdout",
     "output_type": "stream",
     "text": [
      "Pearson correlation coefficient: -0.9154096199008013\n",
      "Spearman correlation coefficient: -0.39999999999999997\n",
      "Kendall correlation coefficient: -0.3333333333333334\n"
     ]
    }
   ],
   "source": [
    "x = df[\"UBS\"]\n",
    "y = df_ubs[\"Tax Provision\"]\n",
    "pearson_coef, _ = pearsonr(x, y)\n",
    "print(\"Pearson correlation coefficient:\", pearson_coef)\n",
    "\n",
    "spearman_coef, _ = spearmanr(x, y)\n",
    "print(\"Spearman correlation coefficient:\", spearman_coef)\n",
    "\n",
    "kendall_coef, _ = kendalltau(x, y)\n",
    "print(\"Kendall correlation coefficient:\", kendall_coef)"
   ]
  },
  {
   "cell_type": "markdown",
   "id": "9d220e1c",
   "metadata": {},
   "source": [
    "Coefficient of Determination \n",
    "https://www.investopedia.com/terms/c/coefficient-of-determination.asp\n",
    "\n",
    "\n",
    "\n",
    "This coefficient generally answers the following question: If a stock is listed on an index and experiences price movements, what percentage of its price movement is attributed to the index's price movement?\n",
    "    \n"
   ]
  },
  {
   "cell_type": "code",
   "execution_count": 40,
   "id": "419c354f",
   "metadata": {},
   "outputs": [],
   "source": [
    "# Setup the start and end time stamp for the time series\n",
    "end = datetime.now()\n",
    "start = datetime(end.year - 4,end.month,end.day)"
   ]
  },
  {
   "cell_type": "code",
   "execution_count": 128,
   "id": "e2b610e9",
   "metadata": {},
   "outputs": [
    {
     "name": "stderr",
     "output_type": "stream",
     "text": [
      "[*********************100%%**********************]  1 of 1 completed\n",
      "[*********************100%%**********************]  1 of 1 completed\n",
      "[*********************100%%**********************]  1 of 1 completed\n",
      "[*********************100%%**********************]  1 of 1 completed\n"
     ]
    }
   ],
   "source": [
    "# Using global methods to \n",
    "for stock in fin_list:\n",
    "    globals()[stock] = yf.download(stock, start, end)"
   ]
  },
  {
   "cell_type": "code",
   "execution_count": 91,
   "id": "1abdfb68",
   "metadata": {},
   "outputs": [],
   "source": [
    "company_list = [STT, C, BK, UBS]\n",
    "company_name = [\"State Street\", \"Citi Bank\", \"BNY MELLON \", \"UBS\"]"
   ]
  },
  {
   "cell_type": "code",
   "execution_count": 190,
   "id": "1ade6dfe",
   "metadata": {
    "scrolled": true
   },
   "outputs": [],
   "source": [
    "for company, com_name in zip(company_list, company_name):\n",
    "    company[\"company_name\"] = com_name\n"
   ]
  },
  {
   "cell_type": "code",
   "execution_count": 122,
   "id": "51d28738",
   "metadata": {},
   "outputs": [],
   "source": [
    "df = pd.concat(company_list, axis=0)\n",
    "x= STT[\"Open\"][].mean()\n",
    "y = C[\"Open\"].mean()"
   ]
  },
  {
   "cell_type": "code",
   "execution_count": 189,
   "id": "249186c6",
   "metadata": {},
   "outputs": [
    {
     "name": "stdout",
     "output_type": "stream",
     "text": [
      "76.3961210856362\n"
     ]
    }
   ],
   "source": [
    "print(x)"
   ]
  },
  {
   "cell_type": "code",
   "execution_count": null,
   "id": "8f7e0f18",
   "metadata": {},
   "outputs": [],
   "source": []
  }
 ],
 "metadata": {
  "kernelspec": {
   "display_name": "Python 3",
   "language": "python",
   "name": "python3"
  },
  "language_info": {
   "codemirror_mode": {
    "name": "ipython",
    "version": 3
   },
   "file_extension": ".py",
   "mimetype": "text/x-python",
   "name": "python",
   "nbconvert_exporter": "python",
   "pygments_lexer": "ipython3",
   "version": "3.8.8"
  }
 },
 "nbformat": 4,
 "nbformat_minor": 5
}
